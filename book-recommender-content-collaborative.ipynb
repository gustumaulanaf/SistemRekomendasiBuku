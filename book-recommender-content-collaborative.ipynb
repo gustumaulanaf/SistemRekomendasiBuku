{
 "cells": [
  {
   "cell_type": "code",
   "execution_count": 38,
   "id": "junior-geography",
   "metadata": {
    "_cell_guid": "b1076dfc-b9ad-4769-8c92-a6c4dae69d19",
    "_uuid": "8f2839f25d086af736a60e9eeb907d3b93b6e0e5",
    "execution": {
     "iopub.execute_input": "2021-06-22T07:07:50.819336Z",
     "iopub.status.busy": "2021-06-22T07:07:50.818679Z",
     "iopub.status.idle": "2021-06-22T07:07:53.135463Z",
     "shell.execute_reply": "2021-06-22T07:07:53.134708Z",
     "shell.execute_reply.started": "2021-06-22T06:40:59.126371Z"
    },
    "papermill": {
     "duration": 2.35314,
     "end_time": "2021-06-22T07:07:53.135655",
     "exception": false,
     "start_time": "2021-06-22T07:07:50.782515",
     "status": "completed"
    },
    "tags": []
   },
   "outputs": [
    {
     "output_type": "display_data",
     "data": {
      "text/html": "        <script type=\"text/javascript\">\n        window.PlotlyConfig = {MathJaxConfig: 'local'};\n        if (window.MathJax) {MathJax.Hub.Config({SVG: {font: \"STIX-Web\"}});}\n        if (typeof require !== 'undefined') {\n        require.undef(\"plotly\");\n        requirejs.config({\n            paths: {\n                'plotly': ['https://cdn.plot.ly/plotly-2.3.1.min']\n            }\n        });\n        require(['plotly'], function(Plotly) {\n            window._Plotly = Plotly;\n        });\n        }\n        </script>\n        "
     },
     "metadata": {}
    }
   ],
   "source": [
    "# This Python 3 environment comes with many helpful analytics libraries installed\n",
    "# It is defined by the kaggle/python Docker image: https://github.com/kaggle/docker-python\n",
    "# For example, here's several helpful packages to load\n",
    "\n",
    "import numpy as np # linear algebra\n",
    "import pandas as pd # data processing, CSV file I/O (e.g. pd.read_csv)\n",
    "import matplotlib.pyplot as plt\n",
    "import seaborn as sns\n",
    "import plotly.express as px\n",
    "from plotly.offline import init_notebook_mode\n",
    "init_notebook_mode(connected=True)\n",
    "\n",
    "# Input data files are available in the read-only \"../input/\" directory\n",
    "# For example, running this (by clicking run or pressing Shift+Enter) will list all files under the input directory\n",
    "\n",
    "import os\n",
    "for dirname, _, filenames in os.walk('/kaggle/input'):\n",
    "    for filename in filenames:\n",
    "        print(os.path.join(dirname, filename))\n",
    "\n",
    "# You can write up to 20GB to the current directory (/kaggle/working/) that gets preserved as output when you create a version using \"Save & Run All\" \n",
    "# You can also write temporary files to /kaggle/temp/, but they won't be saved outside of the current session"
   ]
  },
  {
   "cell_type": "code",
   "execution_count": 39,
   "id": "neither-government",
   "metadata": {
    "execution": {
     "iopub.execute_input": "2021-06-22T07:07:53.194725Z",
     "iopub.status.busy": "2021-06-22T07:07:53.194010Z",
     "iopub.status.idle": "2021-06-22T07:07:57.356928Z",
     "shell.execute_reply": "2021-06-22T07:07:57.355937Z",
     "shell.execute_reply.started": "2021-06-22T06:41:00.353724Z"
    },
    "papermill": {
     "duration": 4.194491,
     "end_time": "2021-06-22T07:07:57.357100",
     "exception": false,
     "start_time": "2021-06-22T07:07:53.162609",
     "status": "completed"
    },
    "tags": []
   },
   "outputs": [
    {
     "output_type": "stream",
     "name": "stderr",
     "text": [
      "<ipython-input-39-8c31a89acb76>:1: ParserWarning:\n",
      "\n",
      "Falling back to the 'python' engine because the 'c' engine does not support regex separators (separators > 1 char and different from '\\s+' are interpreted as regex); you can avoid this warning by specifying engine='python'.\n",
      "\n",
      "<ipython-input-39-8c31a89acb76>:2: ParserWarning:\n",
      "\n",
      "Falling back to the 'python' engine because the 'c' engine does not support regex separators (separators > 1 char and different from '\\s+' are interpreted as regex); you can avoid this warning by specifying engine='python'.\n",
      "\n",
      "<ipython-input-39-8c31a89acb76>:3: ParserWarning:\n",
      "\n",
      "Falling back to the 'python' engine because the 'c' engine does not support regex separators (separators > 1 char and different from '\\s+' are interpreted as regex); you can avoid this warning by specifying engine='python'.\n",
      "\n"
     ]
    }
   ],
   "source": [
    "df1 = pd.read_csv('BX-Book-Ratings.csv', sep='\\\";\\\"', names=['User-ID', 'ISBN', 'Book-Rating'], encoding='latin-1', skiprows=1)\n",
    "df2 = pd.read_csv('BX-Users.csv', sep='\\\";\\\"', names=['User-ID', 'Location', 'Age'], encoding='latin-1', skiprows=1)\n",
    "df3 = pd.read_csv('BX-Books.csv', sep='\\\";\\\"', names=['ISBN', 'Book-Title' ,'Book-Author','Year-Of-Publication', 'Publisher', 'Image-Url-S', 'Image-Url-M', 'Image-Url-L'], encoding='latin-1', skiprows=1)"
   ]
  },
  {
   "cell_type": "code",
   "execution_count": 40,
   "metadata": {},
   "outputs": [],
   "source": [
    "df2['User-ID'] = df2['User-ID'].str.replace(\"\\\"\",\"\")\n",
    "df2['Location'] = df2['Location'].str.replace(\"\\\";NULL\",\"\")\n",
    "df2['Age'] = df2['Age'].fillna(\"0\")\n",
    "df2['Age'] = df2['Age'].str.replace(\"\\\"\",\"\")\n",
    "df3['ISBN'] = df3['ISBN'].str.replace(\"\\\"\",\"\")\n",
    "df3['Book-Title'] = df3['Book-Title'].str.replace(\"\\\"\",\"\")\n",
    "df1['User-ID'] = df1['User-ID'].str.replace(\"\\\"\",\"\")\n",
    "df1['Book-Rating'] = df1['Book-Rating'].str.replace(\"\\\"\",\"\").astype(int)"
   ]
  },
  {
   "cell_type": "code",
   "execution_count": 41,
   "id": "confidential-hierarchy",
   "metadata": {
    "execution": {
     "iopub.execute_input": "2021-06-22T07:07:57.423272Z",
     "iopub.status.busy": "2021-06-22T07:07:57.422620Z",
     "iopub.status.idle": "2021-06-22T07:07:57.569918Z",
     "shell.execute_reply": "2021-06-22T07:07:57.570412Z",
     "shell.execute_reply.started": "2021-06-21T07:59:39.305266Z"
    },
    "papermill": {
     "duration": 0.186986,
     "end_time": "2021-06-22T07:07:57.570588",
     "exception": false,
     "start_time": "2021-06-22T07:07:57.383602",
     "status": "completed"
    },
    "tags": []
   },
   "outputs": [
    {
     "output_type": "stream",
     "name": "stdout",
     "text": [
      "<class 'pandas.core.frame.DataFrame'>\nRangeIndex: 1149780 entries, 0 to 1149779\nData columns (total 3 columns):\n #   Column       Non-Null Count    Dtype \n---  ------       --------------    ----- \n 0   User-ID      1149780 non-null  object\n 1   ISBN         1149780 non-null  object\n 2   Book-Rating  1149780 non-null  int64 \ndtypes: int64(1), object(2)\nmemory usage: 26.3+ MB\n"
     ]
    }
   ],
   "source": [
    "df1.info()"
   ]
  },
  {
   "cell_type": "code",
   "execution_count": 42,
   "id": "neutral-stephen",
   "metadata": {
    "execution": {
     "iopub.execute_input": "2021-06-22T07:07:57.628780Z",
     "iopub.status.busy": "2021-06-22T07:07:57.628030Z",
     "iopub.status.idle": "2021-06-22T07:07:57.667953Z",
     "shell.execute_reply": "2021-06-22T07:07:57.668498Z",
     "shell.execute_reply.started": "2021-06-21T08:01:19.42936Z"
    },
    "papermill": {
     "duration": 0.071661,
     "end_time": "2021-06-22T07:07:57.668674",
     "exception": false,
     "start_time": "2021-06-22T07:07:57.597013",
     "status": "completed"
    },
    "tags": []
   },
   "outputs": [
    {
     "output_type": "stream",
     "name": "stdout",
     "text": [
      "<class 'pandas.core.frame.DataFrame'>\nRangeIndex: 278859 entries, 0 to 278858\nData columns (total 3 columns):\n #   Column    Non-Null Count   Dtype \n---  ------    --------------   ----- \n 0   User-ID   278859 non-null  object\n 1   Location  278858 non-null  object\n 2   Age       278859 non-null  object\ndtypes: object(3)\nmemory usage: 6.4+ MB\n"
     ]
    }
   ],
   "source": [
    "df2.info()"
   ]
  },
  {
   "cell_type": "code",
   "execution_count": 43,
   "id": "solved-offset",
   "metadata": {
    "execution": {
     "iopub.execute_input": "2021-06-22T07:07:57.924267Z",
     "iopub.status.busy": "2021-06-22T07:07:57.923191Z",
     "iopub.status.idle": "2021-06-22T07:07:57.938187Z",
     "shell.execute_reply": "2021-06-22T07:07:57.938657Z",
     "shell.execute_reply.started": "2021-06-21T08:02:21.682905Z"
    },
    "papermill": {
     "duration": 0.242728,
     "end_time": "2021-06-22T07:07:57.938834",
     "exception": false,
     "start_time": "2021-06-22T07:07:57.696106",
     "status": "completed"
    },
    "tags": []
   },
   "outputs": [
    {
     "output_type": "stream",
     "name": "stdout",
     "text": [
      "<class 'pandas.core.frame.DataFrame'>\nRangeIndex: 271379 entries, 0 to 271378\nData columns (total 8 columns):\n #   Column               Non-Null Count   Dtype \n---  ------               --------------   ----- \n 0   ISBN                 271379 non-null  object\n 1   Book-Title           271379 non-null  object\n 2   Book-Author          271378 non-null  object\n 3   Year-Of-Publication  271379 non-null  int64 \n 4   Publisher            271377 non-null  object\n 5   Image-Url-S          271379 non-null  object\n 6   Image-Url-M          271379 non-null  object\n 7   Image-Url-L          271379 non-null  object\ndtypes: int64(1), object(7)\nmemory usage: 16.6+ MB\n"
     ]
    }
   ],
   "source": [
    "df3.info()"
   ]
  },
  {
   "cell_type": "code",
   "execution_count": 44,
   "id": "arctic-implement",
   "metadata": {
    "execution": {
     "iopub.execute_input": "2021-06-22T07:07:58.008739Z",
     "iopub.status.busy": "2021-06-22T07:07:58.008012Z",
     "iopub.status.idle": "2021-06-22T07:07:58.334678Z",
     "shell.execute_reply": "2021-06-22T07:07:58.334075Z",
     "shell.execute_reply.started": "2021-06-22T06:41:03.875924Z"
    },
    "papermill": {
     "duration": 0.368782,
     "end_time": "2021-06-22T07:07:58.334833",
     "exception": false,
     "start_time": "2021-06-22T07:07:57.966051",
     "status": "completed"
    },
    "tags": []
   },
   "outputs": [],
   "source": [
    "# remove 'DK Publishing Inc', 'Gallimard' values from 'Year-Of-Publication' column and convert to int\n",
    "df3 = df3[~df3['Year-Of-Publication'].isin(['DK Publishing Inc', 'Gallimard'])]\n",
    "df3['Year-Of-Publication'] = pd.to_numeric(df3['Year-Of-Publication'])"
   ]
  },
  {
   "cell_type": "markdown",
   "id": "executed-marketplace",
   "metadata": {
    "papermill": {
     "duration": 0.026918,
     "end_time": "2021-06-22T07:07:58.389836",
     "exception": false,
     "start_time": "2021-06-22T07:07:58.362918",
     "status": "completed"
    },
    "tags": []
   },
   "source": [
    "* Dataset 1 - Rating.csv (11149780)\n",
    "    * User-ID - user ID\n",
    "    * ISBN - book ID\n",
    "    * Book-Rating - Rating given by user\n",
    "    \n",
    "* Dataset 2 - Users.csv (278858)\n",
    "    * User-ID - user ID\n",
    "    * Location - location of user\n",
    "    * Age - age of user\n",
    "\n",
    "* Dataset 3 - Books.csv (271360)\n",
    "    * ISBN - book ID\n",
    "    * Book-Title - Book Name\n",
    "    * Book-Author\n",
    "    * Year-Of-Publication\n",
    "    * Publisher\n",
    "    * Image-URL-S\n",
    "    * Image-URL-M\n",
    "    * Image-URL-L"
   ]
  },
  {
   "cell_type": "markdown",
   "id": "violent-quarterly",
   "metadata": {
    "papermill": {
     "duration": 0.026962,
     "end_time": "2021-06-22T07:07:58.443955",
     "exception": false,
     "start_time": "2021-06-22T07:07:58.416993",
     "status": "completed"
    },
    "tags": []
   },
   "source": [
    "# EDA"
   ]
  },
  {
   "cell_type": "code",
   "execution_count": 45,
   "id": "popular-moral",
   "metadata": {
    "execution": {
     "iopub.execute_input": "2021-06-22T07:07:58.503866Z",
     "iopub.status.busy": "2021-06-22T07:07:58.503228Z",
     "iopub.status.idle": "2021-06-22T07:07:58.506400Z",
     "shell.execute_reply": "2021-06-22T07:07:58.505819Z",
     "shell.execute_reply.started": "2021-06-22T06:41:07.582884Z"
    },
    "papermill": {
     "duration": 0.035493,
     "end_time": "2021-06-22T07:07:58.506561",
     "exception": false,
     "start_time": "2021-06-22T07:07:58.471068",
     "status": "completed"
    },
    "tags": []
   },
   "outputs": [],
   "source": [
    "def plot_distribution(feature, data):\n",
    "    sns.displot(x=feature, data=data, kde=True, color='#244747');\n",
    "    plt.figtext(0.2, 1, '%s Distribution'%feature, fontfamily='serif', fontsize=17, fontweight='bold');"
   ]
  },
  {
   "cell_type": "code",
   "execution_count": 47,
   "id": "dried-definition",
   "metadata": {
    "execution": {
     "iopub.execute_input": "2021-06-22T07:07:58.566636Z",
     "iopub.status.busy": "2021-06-22T07:07:58.565923Z",
     "iopub.status.idle": "2021-06-22T07:08:00.090241Z",
     "shell.execute_reply": "2021-06-22T07:08:00.090768Z",
     "shell.execute_reply.started": "2021-06-22T06:41:07.768293Z"
    },
    "papermill": {
     "duration": 1.557032,
     "end_time": "2021-06-22T07:08:00.090945",
     "exception": false,
     "start_time": "2021-06-22T07:07:58.533913",
     "status": "completed"
    },
    "tags": []
   },
   "outputs": [
    {
     "output_type": "error",
     "ename": "TypeError",
     "evalue": "cannot convert the series to <class 'int'>",
     "traceback": [
      "\u001b[0;31m---------------------------------------------------------------------------\u001b[0m",
      "\u001b[0;31mTypeError\u001b[0m                                 Traceback (most recent call last)",
      "\u001b[0;32m<ipython-input-47-aa9e7220df31>\u001b[0m in \u001b[0;36m<module>\u001b[0;34m\u001b[0m\n\u001b[0;32m----> 1\u001b[0;31m \u001b[0mdf2\u001b[0m \u001b[0;34m=\u001b[0m \u001b[0mdf2\u001b[0m\u001b[0;34m[\u001b[0m\u001b[0mint\u001b[0m\u001b[0;34m(\u001b[0m\u001b[0mdf2\u001b[0m\u001b[0;34m[\u001b[0m\u001b[0;34m'Age'\u001b[0m\u001b[0;34m]\u001b[0m\u001b[0;34m)\u001b[0m \u001b[0;34m<=\u001b[0m \u001b[0;36m120\u001b[0m \u001b[0;34m]\u001b[0m\u001b[0;34m\u001b[0m\u001b[0;34m\u001b[0m\u001b[0m\n\u001b[0m\u001b[1;32m      2\u001b[0m \u001b[0;31m# Distribution of user as per age\u001b[0m\u001b[0;34m\u001b[0m\u001b[0;34m\u001b[0m\u001b[0;34m\u001b[0m\u001b[0m\n\u001b[1;32m      3\u001b[0m \u001b[0mplot_distribution\u001b[0m\u001b[0;34m(\u001b[0m\u001b[0;34m'Age'\u001b[0m\u001b[0;34m,\u001b[0m \u001b[0mdf2\u001b[0m\u001b[0;34m)\u001b[0m\u001b[0;34m\u001b[0m\u001b[0;34m\u001b[0m\u001b[0m\n",
      "\u001b[0;32m/usr/local/lib/python3.9/site-packages/pandas/core/series.py\u001b[0m in \u001b[0;36mwrapper\u001b[0;34m(self)\u001b[0m\n\u001b[1;32m    139\u001b[0m         \u001b[0;32mif\u001b[0m \u001b[0mlen\u001b[0m\u001b[0;34m(\u001b[0m\u001b[0mself\u001b[0m\u001b[0;34m)\u001b[0m \u001b[0;34m==\u001b[0m \u001b[0;36m1\u001b[0m\u001b[0;34m:\u001b[0m\u001b[0;34m\u001b[0m\u001b[0;34m\u001b[0m\u001b[0m\n\u001b[1;32m    140\u001b[0m             \u001b[0;32mreturn\u001b[0m \u001b[0mconverter\u001b[0m\u001b[0;34m(\u001b[0m\u001b[0mself\u001b[0m\u001b[0;34m.\u001b[0m\u001b[0miloc\u001b[0m\u001b[0;34m[\u001b[0m\u001b[0;36m0\u001b[0m\u001b[0;34m]\u001b[0m\u001b[0;34m)\u001b[0m\u001b[0;34m\u001b[0m\u001b[0;34m\u001b[0m\u001b[0m\n\u001b[0;32m--> 141\u001b[0;31m         \u001b[0;32mraise\u001b[0m \u001b[0mTypeError\u001b[0m\u001b[0;34m(\u001b[0m\u001b[0;34mf\"cannot convert the series to {converter}\"\u001b[0m\u001b[0;34m)\u001b[0m\u001b[0;34m\u001b[0m\u001b[0;34m\u001b[0m\u001b[0m\n\u001b[0m\u001b[1;32m    142\u001b[0m \u001b[0;34m\u001b[0m\u001b[0m\n\u001b[1;32m    143\u001b[0m     \u001b[0mwrapper\u001b[0m\u001b[0;34m.\u001b[0m\u001b[0m__name__\u001b[0m \u001b[0;34m=\u001b[0m \u001b[0;34mf\"__{converter.__name__}__\"\u001b[0m\u001b[0;34m\u001b[0m\u001b[0;34m\u001b[0m\u001b[0m\n",
      "\u001b[0;31mTypeError\u001b[0m: cannot convert the series to <class 'int'>"
     ]
    }
   ],
   "source": [
    "df2 = df2[int(df2['Age']) <= 120 ]\n",
    "# Distribution of user as per age\n",
    "plot_distribution('Age', df2)"
   ]
  },
  {
   "cell_type": "markdown",
   "id": "exact-hawaiian",
   "metadata": {
    "papermill": {
     "duration": 0.028116,
     "end_time": "2021-06-22T07:08:00.147467",
     "exception": false,
     "start_time": "2021-06-22T07:08:00.119351",
     "status": "completed"
    },
    "tags": []
   },
   "source": [
    "remove users with age above 120"
   ]
  },
  {
   "cell_type": "code",
   "execution_count": 9,
   "id": "commercial-burlington",
   "metadata": {
    "execution": {
     "iopub.execute_input": "2021-06-22T07:08:00.207337Z",
     "iopub.status.busy": "2021-06-22T07:08:00.206678Z",
     "iopub.status.idle": "2021-06-22T07:08:02.249604Z",
     "shell.execute_reply": "2021-06-22T07:08:02.248960Z",
     "shell.execute_reply.started": "2021-06-22T06:41:09.264308Z"
    },
    "papermill": {
     "duration": 2.073998,
     "end_time": "2021-06-22T07:08:02.249744",
     "exception": false,
     "start_time": "2021-06-22T07:08:00.175746",
     "status": "completed"
    },
    "tags": []
   },
   "outputs": [
    {
     "output_type": "display_data",
     "data": {
      "text/plain": "<Figure size 360x360 with 1 Axes>",
      "image/svg+xml": "<?xml version=\"1.0\" encoding=\"utf-8\" standalone=\"no\"?>\n<!DOCTYPE svg PUBLIC \"-//W3C//DTD SVG 1.1//EN\"\n  \"http://www.w3.org/Graphics/SVG/1.1/DTD/svg11.dtd\">\n<svg height=\"375.873594pt\" version=\"1.1\" viewBox=\"0 0 384.0475 375.873594\" width=\"384.0475pt\" xmlns=\"http://www.w3.org/2000/svg\" xmlns:xlink=\"http://www.w3.org/1999/xlink\">\n <metadata>\n  <rdf:RDF xmlns:cc=\"http://creativecommons.org/ns#\" xmlns:dc=\"http://purl.org/dc/elements/1.1/\" xmlns:rdf=\"http://www.w3.org/1999/02/22-rdf-syntax-ns#\">\n   <cc:Work>\n    <dc:type rdf:resource=\"http://purl.org/dc/dcmitype/StillImage\"/>\n    <dc:date>2021-08-17T21:18:40.257474</dc:date>\n    <dc:format>image/svg+xml</dc:format>\n    <dc:creator>\n     <cc:Agent>\n      <dc:title>Matplotlib v3.4.2, https://matplotlib.org/</dc:title>\n     </cc:Agent>\n    </dc:creator>\n   </cc:Work>\n  </rdf:RDF>\n </metadata>\n <defs>\n  <style type=\"text/css\">*{stroke-linecap:butt;stroke-linejoin:round;}</style>\n </defs>\n <g id=\"figure_1\">\n  <g id=\"patch_1\">\n   <path d=\"M 0 375.873594 \nL 384.0475 375.873594 \nL 384.0475 -0 \nL 0 -0 \nz\n\" style=\"fill:none;\"/>\n  </g>\n  <g id=\"axes_1\">\n   <g id=\"patch_2\">\n    <path d=\"M 59.690625 338.317344 \nL 345.465625 338.317344 \nL 345.465625 30.917344 \nL 59.690625 30.917344 \nz\n\" style=\"fill:#ffffff;\"/>\n   </g>\n   <g id=\"patch_3\">\n    <path clip-path=\"url(#p13e16421fb)\" d=\"M 72.680398 338.317344 \nL 74.131769 338.317344 \nL 74.131769 337.653033 \nL 72.680398 337.653033 \nz\n\" style=\"fill:#244747;fill-opacity:0.5;stroke:#000000;stroke-linejoin:miter;stroke-width:0.156215;\"/>\n   </g>\n   <g id=\"patch_4\">\n    <path clip-path=\"url(#p13e16421fb)\" d=\"M 74.131769 338.317344 \nL 75.58314 338.317344 \nL 75.58314 338.317344 \nL 74.131769 338.317344 \nz\n\" style=\"fill:#244747;fill-opacity:0.5;stroke:#000000;stroke-linejoin:miter;stroke-width:0.156215;\"/>\n   </g>\n   <g id=\"patch_5\">\n    <path clip-path=\"url(#p13e16421fb)\" d=\"M 75.58314 338.317344 \nL 77.034511 338.317344 \nL 77.034511 337.752679 \nL 75.58314 337.752679 \nz\n\" style=\"fill:#244747;fill-opacity:0.5;stroke:#000000;stroke-linejoin:miter;stroke-width:0.156215;\"/>\n   </g>\n   <g id=\"patch_6\">\n    <path clip-path=\"url(#p13e16421fb)\" d=\"M 77.034511 338.317344 \nL 78.485883 338.317344 \nL 78.485883 338.317344 \nL 77.034511 338.317344 \nz\n\" style=\"fill:#244747;fill-opacity:0.5;stroke:#000000;stroke-linejoin:miter;stroke-width:0.156215;\"/>\n   </g>\n   <g id=\"patch_7\">\n    <path clip-path=\"url(#p13e16421fb)\" d=\"M 78.485883 338.317344 \nL 79.937254 338.317344 \nL 79.937254 338.317344 \nL 78.485883 338.317344 \nz\n\" style=\"fill:#244747;fill-opacity:0.5;stroke:#000000;stroke-linejoin:miter;stroke-width:0.156215;\"/>\n   </g>\n   <g id=\"patch_8\">\n    <path clip-path=\"url(#p13e16421fb)\" d=\"M 79.937254 338.317344 \nL 81.388625 338.317344 \nL 81.388625 337.271054 \nL 79.937254 337.271054 \nz\n\" style=\"fill:#244747;fill-opacity:0.5;stroke:#000000;stroke-linejoin:miter;stroke-width:0.156215;\"/>\n   </g>\n   <g id=\"patch_9\">\n    <path clip-path=\"url(#p13e16421fb)\" d=\"M 81.388625 338.317344 \nL 82.839997 338.317344 \nL 82.839997 338.317344 \nL 81.388625 338.317344 \nz\n\" style=\"fill:#244747;fill-opacity:0.5;stroke:#000000;stroke-linejoin:miter;stroke-width:0.156215;\"/>\n   </g>\n   <g id=\"patch_10\">\n    <path clip-path=\"url(#p13e16421fb)\" d=\"M 82.839997 338.317344 \nL 84.291368 338.317344 \nL 84.291368 338.317344 \nL 82.839997 338.317344 \nz\n\" style=\"fill:#244747;fill-opacity:0.5;stroke:#000000;stroke-linejoin:miter;stroke-width:0.156215;\"/>\n   </g>\n   <g id=\"patch_11\">\n    <path clip-path=\"url(#p13e16421fb)\" d=\"M 84.291368 338.317344 \nL 85.742739 338.317344 \nL 85.742739 337.420524 \nL 84.291368 337.420524 \nz\n\" style=\"fill:#244747;fill-opacity:0.5;stroke:#000000;stroke-linejoin:miter;stroke-width:0.156215;\"/>\n   </g>\n   <g id=\"patch_12\">\n    <path clip-path=\"url(#p13e16421fb)\" d=\"M 85.742739 338.317344 \nL 87.19411 338.317344 \nL 87.19411 338.317344 \nL 85.742739 338.317344 \nz\n\" style=\"fill:#244747;fill-opacity:0.5;stroke:#000000;stroke-linejoin:miter;stroke-width:0.156215;\"/>\n   </g>\n   <g id=\"patch_13\">\n    <path clip-path=\"url(#p13e16421fb)\" d=\"M 87.19411 338.317344 \nL 88.645482 338.317344 \nL 88.645482 338.317344 \nL 87.19411 338.317344 \nz\n\" style=\"fill:#244747;fill-opacity:0.5;stroke:#000000;stroke-linejoin:miter;stroke-width:0.156215;\"/>\n   </g>\n   <g id=\"patch_14\">\n    <path clip-path=\"url(#p13e16421fb)\" d=\"M 88.645482 338.317344 \nL 90.096853 338.317344 \nL 90.096853 337.154799 \nL 88.645482 337.154799 \nz\n\" style=\"fill:#244747;fill-opacity:0.5;stroke:#000000;stroke-linejoin:miter;stroke-width:0.156215;\"/>\n   </g>\n   <g id=\"patch_15\">\n    <path clip-path=\"url(#p13e16421fb)\" d=\"M 90.096853 338.317344 \nL 91.548224 338.317344 \nL 91.548224 338.317344 \nL 90.096853 338.317344 \nz\n\" style=\"fill:#244747;fill-opacity:0.5;stroke:#000000;stroke-linejoin:miter;stroke-width:0.156215;\"/>\n   </g>\n   <g id=\"patch_16\">\n    <path clip-path=\"url(#p13e16421fb)\" d=\"M 91.548224 338.317344 \nL 92.999595 338.317344 \nL 92.999595 338.317344 \nL 91.548224 338.317344 \nz\n\" style=\"fill:#244747;fill-opacity:0.5;stroke:#000000;stroke-linejoin:miter;stroke-width:0.156215;\"/>\n   </g>\n   <g id=\"patch_17\">\n    <path clip-path=\"url(#p13e16421fb)\" d=\"M 92.999595 338.317344 \nL 94.450967 338.317344 \nL 94.450967 337.088368 \nL 92.999595 337.088368 \nz\n\" style=\"fill:#244747;fill-opacity:0.5;stroke:#000000;stroke-linejoin:miter;stroke-width:0.156215;\"/>\n   </g>\n   <g id=\"patch_18\">\n    <path clip-path=\"url(#p13e16421fb)\" d=\"M 94.450967 338.317344 \nL 95.902338 338.317344 \nL 95.902338 338.317344 \nL 94.450967 338.317344 \nz\n\" style=\"fill:#244747;fill-opacity:0.5;stroke:#000000;stroke-linejoin:miter;stroke-width:0.156215;\"/>\n   </g>\n   <g id=\"patch_19\">\n    <path clip-path=\"url(#p13e16421fb)\" d=\"M 95.902338 338.317344 \nL 97.353709 338.317344 \nL 97.353709 338.317344 \nL 95.902338 338.317344 \nz\n\" style=\"fill:#244747;fill-opacity:0.5;stroke:#000000;stroke-linejoin:miter;stroke-width:0.156215;\"/>\n   </g>\n   <g id=\"patch_20\">\n    <path clip-path=\"url(#p13e16421fb)\" d=\"M 97.353709 338.317344 \nL 98.80508 338.317344 \nL 98.80508 337.055153 \nL 97.353709 337.055153 \nz\n\" style=\"fill:#244747;fill-opacity:0.5;stroke:#000000;stroke-linejoin:miter;stroke-width:0.156215;\"/>\n   </g>\n   <g id=\"patch_21\">\n    <path clip-path=\"url(#p13e16421fb)\" d=\"M 98.80508 338.317344 \nL 100.256452 338.317344 \nL 100.256452 338.317344 \nL 98.80508 338.317344 \nz\n\" style=\"fill:#244747;fill-opacity:0.5;stroke:#000000;stroke-linejoin:miter;stroke-width:0.156215;\"/>\n   </g>\n   <g id=\"patch_22\">\n    <path clip-path=\"url(#p13e16421fb)\" d=\"M 100.256452 338.317344 \nL 101.707823 338.317344 \nL 101.707823 338.317344 \nL 100.256452 338.317344 \nz\n\" style=\"fill:#244747;fill-opacity:0.5;stroke:#000000;stroke-linejoin:miter;stroke-width:0.156215;\"/>\n   </g>\n   <g id=\"patch_23\">\n    <path clip-path=\"url(#p13e16421fb)\" d=\"M 101.707823 338.317344 \nL 103.159194 338.317344 \nL 103.159194 337.038545 \nL 101.707823 337.038545 \nz\n\" style=\"fill:#244747;fill-opacity:0.5;stroke:#000000;stroke-linejoin:miter;stroke-width:0.156215;\"/>\n   </g>\n   <g id=\"patch_24\">\n    <path clip-path=\"url(#p13e16421fb)\" d=\"M 103.159194 338.317344 \nL 104.610565 338.317344 \nL 104.610565 338.317344 \nL 103.159194 338.317344 \nz\n\" style=\"fill:#244747;fill-opacity:0.5;stroke:#000000;stroke-linejoin:miter;stroke-width:0.156215;\"/>\n   </g>\n   <g id=\"patch_25\">\n    <path clip-path=\"url(#p13e16421fb)\" d=\"M 104.610565 338.317344 \nL 106.061937 338.317344 \nL 106.061937 338.317344 \nL 104.610565 338.317344 \nz\n\" style=\"fill:#244747;fill-opacity:0.5;stroke:#000000;stroke-linejoin:miter;stroke-width:0.156215;\"/>\n   </g>\n   <g id=\"patch_26\">\n    <path clip-path=\"url(#p13e16421fb)\" d=\"M 106.061937 338.317344 \nL 107.513308 338.317344 \nL 107.513308 336.606743 \nL 106.061937 336.606743 \nz\n\" style=\"fill:#244747;fill-opacity:0.5;stroke:#000000;stroke-linejoin:miter;stroke-width:0.156215;\"/>\n   </g>\n   <g id=\"patch_27\">\n    <path clip-path=\"url(#p13e16421fb)\" d=\"M 107.513308 338.317344 \nL 108.964679 338.317344 \nL 108.964679 338.317344 \nL 107.513308 338.317344 \nz\n\" style=\"fill:#244747;fill-opacity:0.5;stroke:#000000;stroke-linejoin:miter;stroke-width:0.156215;\"/>\n   </g>\n   <g id=\"patch_28\">\n    <path clip-path=\"url(#p13e16421fb)\" d=\"M 108.964679 338.317344 \nL 110.41605 338.317344 \nL 110.41605 338.317344 \nL 108.964679 338.317344 \nz\n\" style=\"fill:#244747;fill-opacity:0.5;stroke:#000000;stroke-linejoin:miter;stroke-width:0.156215;\"/>\n   </g>\n   <g id=\"patch_29\">\n    <path clip-path=\"url(#p13e16421fb)\" d=\"M 110.41605 338.317344 \nL 111.867422 338.317344 \nL 111.867422 336.108509 \nL 110.41605 336.108509 \nz\n\" style=\"fill:#244747;fill-opacity:0.5;stroke:#000000;stroke-linejoin:miter;stroke-width:0.156215;\"/>\n   </g>\n   <g id=\"patch_30\">\n    <path clip-path=\"url(#p13e16421fb)\" d=\"M 111.867422 338.317344 \nL 113.318793 338.317344 \nL 113.318793 338.317344 \nL 111.867422 338.317344 \nz\n\" style=\"fill:#244747;fill-opacity:0.5;stroke:#000000;stroke-linejoin:miter;stroke-width:0.156215;\"/>\n   </g>\n   <g id=\"patch_31\">\n    <path clip-path=\"url(#p13e16421fb)\" d=\"M 113.318793 338.317344 \nL 114.770164 338.317344 \nL 114.770164 338.317344 \nL 113.318793 338.317344 \nz\n\" style=\"fill:#244747;fill-opacity:0.5;stroke:#000000;stroke-linejoin:miter;stroke-width:0.156215;\"/>\n   </g>\n   <g id=\"patch_32\">\n    <path clip-path=\"url(#p13e16421fb)\" d=\"M 114.770164 338.317344 \nL 116.221535 338.317344 \nL 116.221535 336.125117 \nL 114.770164 336.125117 \nz\n\" style=\"fill:#244747;fill-opacity:0.5;stroke:#000000;stroke-linejoin:miter;stroke-width:0.156215;\"/>\n   </g>\n   <g id=\"patch_33\">\n    <path clip-path=\"url(#p13e16421fb)\" d=\"M 116.221535 338.317344 \nL 117.672907 338.317344 \nL 117.672907 338.317344 \nL 116.221535 338.317344 \nz\n\" style=\"fill:#244747;fill-opacity:0.5;stroke:#000000;stroke-linejoin:miter;stroke-width:0.156215;\"/>\n   </g>\n   <g id=\"patch_34\">\n    <path clip-path=\"url(#p13e16421fb)\" d=\"M 117.672907 338.317344 \nL 119.124278 338.317344 \nL 119.124278 338.317344 \nL 117.672907 338.317344 \nz\n\" style=\"fill:#244747;fill-opacity:0.5;stroke:#000000;stroke-linejoin:miter;stroke-width:0.156215;\"/>\n   </g>\n   <g id=\"patch_35\">\n    <path clip-path=\"url(#p13e16421fb)\" d=\"M 119.124278 338.317344 \nL 120.575649 338.317344 \nL 120.575649 336.274587 \nL 119.124278 336.274587 \nz\n\" style=\"fill:#244747;fill-opacity:0.5;stroke:#000000;stroke-linejoin:miter;stroke-width:0.156215;\"/>\n   </g>\n   <g id=\"patch_36\">\n    <path clip-path=\"url(#p13e16421fb)\" d=\"M 120.575649 338.317344 \nL 122.02702 338.317344 \nL 122.02702 338.317344 \nL 120.575649 338.317344 \nz\n\" style=\"fill:#244747;fill-opacity:0.5;stroke:#000000;stroke-linejoin:miter;stroke-width:0.156215;\"/>\n   </g>\n   <g id=\"patch_37\">\n    <path clip-path=\"url(#p13e16421fb)\" d=\"M 122.02702 338.317344 \nL 123.478392 338.317344 \nL 123.478392 338.317344 \nL 122.02702 338.317344 \nz\n\" style=\"fill:#244747;fill-opacity:0.5;stroke:#000000;stroke-linejoin:miter;stroke-width:0.156215;\"/>\n   </g>\n   <g id=\"patch_38\">\n    <path clip-path=\"url(#p13e16421fb)\" d=\"M 123.478392 338.317344 \nL 124.929763 338.317344 \nL 124.929763 336.125117 \nL 123.478392 336.125117 \nz\n\" style=\"fill:#244747;fill-opacity:0.5;stroke:#000000;stroke-linejoin:miter;stroke-width:0.156215;\"/>\n   </g>\n   <g id=\"patch_39\">\n    <path clip-path=\"url(#p13e16421fb)\" d=\"M 124.929763 338.317344 \nL 126.381134 338.317344 \nL 126.381134 338.317344 \nL 124.929763 338.317344 \nz\n\" style=\"fill:#244747;fill-opacity:0.5;stroke:#000000;stroke-linejoin:miter;stroke-width:0.156215;\"/>\n   </g>\n   <g id=\"patch_40\">\n    <path clip-path=\"url(#p13e16421fb)\" d=\"M 126.381134 338.317344 \nL 127.832505 338.317344 \nL 127.832505 338.317344 \nL 126.381134 338.317344 \nz\n\" style=\"fill:#244747;fill-opacity:0.5;stroke:#000000;stroke-linejoin:miter;stroke-width:0.156215;\"/>\n   </g>\n   <g id=\"patch_41\">\n    <path clip-path=\"url(#p13e16421fb)\" d=\"M 127.832505 338.317344 \nL 129.283877 338.317344 \nL 129.283877 335.842785 \nL 127.832505 335.842785 \nz\n\" style=\"fill:#244747;fill-opacity:0.5;stroke:#000000;stroke-linejoin:miter;stroke-width:0.156215;\"/>\n   </g>\n   <g id=\"patch_42\">\n    <path clip-path=\"url(#p13e16421fb)\" d=\"M 129.283877 338.317344 \nL 130.735248 338.317344 \nL 130.735248 338.317344 \nL 129.283877 338.317344 \nz\n\" style=\"fill:#244747;fill-opacity:0.5;stroke:#000000;stroke-linejoin:miter;stroke-width:0.156215;\"/>\n   </g>\n   <g id=\"patch_43\">\n    <path clip-path=\"url(#p13e16421fb)\" d=\"M 130.735248 338.317344 \nL 132.186619 338.317344 \nL 132.186619 338.317344 \nL 130.735248 338.317344 \nz\n\" style=\"fill:#244747;fill-opacity:0.5;stroke:#000000;stroke-linejoin:miter;stroke-width:0.156215;\"/>\n   </g>\n   <g id=\"patch_44\">\n    <path clip-path=\"url(#p13e16421fb)\" d=\"M 132.186619 338.317344 \nL 133.63799 338.317344 \nL 133.63799 335.444198 \nL 132.186619 335.444198 \nz\n\" style=\"fill:#244747;fill-opacity:0.5;stroke:#000000;stroke-linejoin:miter;stroke-width:0.156215;\"/>\n   </g>\n   <g id=\"patch_45\">\n    <path clip-path=\"url(#p13e16421fb)\" d=\"M 133.63799 338.317344 \nL 135.089362 338.317344 \nL 135.089362 338.317344 \nL 133.63799 338.317344 \nz\n\" style=\"fill:#244747;fill-opacity:0.5;stroke:#000000;stroke-linejoin:miter;stroke-width:0.156215;\"/>\n   </g>\n   <g id=\"patch_46\">\n    <path clip-path=\"url(#p13e16421fb)\" d=\"M 135.089362 338.317344 \nL 136.540733 338.317344 \nL 136.540733 338.317344 \nL 135.089362 338.317344 \nz\n\" style=\"fill:#244747;fill-opacity:0.5;stroke:#000000;stroke-linejoin:miter;stroke-width:0.156215;\"/>\n   </g>\n   <g id=\"patch_47\">\n    <path clip-path=\"url(#p13e16421fb)\" d=\"M 136.540733 338.317344 \nL 137.992104 338.317344 \nL 137.992104 335.27812 \nL 136.540733 335.27812 \nz\n\" style=\"fill:#244747;fill-opacity:0.5;stroke:#000000;stroke-linejoin:miter;stroke-width:0.156215;\"/>\n   </g>\n   <g id=\"patch_48\">\n    <path clip-path=\"url(#p13e16421fb)\" d=\"M 137.992104 338.317344 \nL 139.443475 338.317344 \nL 139.443475 338.317344 \nL 137.992104 338.317344 \nz\n\" style=\"fill:#244747;fill-opacity:0.5;stroke:#000000;stroke-linejoin:miter;stroke-width:0.156215;\"/>\n   </g>\n   <g id=\"patch_49\">\n    <path clip-path=\"url(#p13e16421fb)\" d=\"M 139.443475 338.317344 \nL 140.894847 338.317344 \nL 140.894847 335.394375 \nL 139.443475 335.394375 \nz\n\" style=\"fill:#244747;fill-opacity:0.5;stroke:#000000;stroke-linejoin:miter;stroke-width:0.156215;\"/>\n   </g>\n   <g id=\"patch_50\">\n    <path clip-path=\"url(#p13e16421fb)\" d=\"M 140.894847 338.317344 \nL 142.346218 338.317344 \nL 142.346218 338.317344 \nL 140.894847 338.317344 \nz\n\" style=\"fill:#244747;fill-opacity:0.5;stroke:#000000;stroke-linejoin:miter;stroke-width:0.156215;\"/>\n   </g>\n   <g id=\"patch_51\">\n    <path clip-path=\"url(#p13e16421fb)\" d=\"M 142.346218 338.317344 \nL 143.797589 338.317344 \nL 143.797589 338.317344 \nL 142.346218 338.317344 \nz\n\" style=\"fill:#244747;fill-opacity:0.5;stroke:#000000;stroke-linejoin:miter;stroke-width:0.156215;\"/>\n   </g>\n   <g id=\"patch_52\">\n    <path clip-path=\"url(#p13e16421fb)\" d=\"M 143.797589 338.317344 \nL 145.24896 338.317344 \nL 145.24896 334.447732 \nL 143.797589 334.447732 \nz\n\" style=\"fill:#244747;fill-opacity:0.5;stroke:#000000;stroke-linejoin:miter;stroke-width:0.156215;\"/>\n   </g>\n   <g id=\"patch_53\">\n    <path clip-path=\"url(#p13e16421fb)\" d=\"M 145.24896 338.317344 \nL 146.700332 338.317344 \nL 146.700332 338.317344 \nL 145.24896 338.317344 \nz\n\" style=\"fill:#244747;fill-opacity:0.5;stroke:#000000;stroke-linejoin:miter;stroke-width:0.156215;\"/>\n   </g>\n   <g id=\"patch_54\">\n    <path clip-path=\"url(#p13e16421fb)\" d=\"M 146.700332 338.317344 \nL 148.151703 338.317344 \nL 148.151703 338.317344 \nL 146.700332 338.317344 \nz\n\" style=\"fill:#244747;fill-opacity:0.5;stroke:#000000;stroke-linejoin:miter;stroke-width:0.156215;\"/>\n   </g>\n   <g id=\"patch_55\">\n    <path clip-path=\"url(#p13e16421fb)\" d=\"M 148.151703 338.317344 \nL 149.603074 338.317344 \nL 149.603074 332.687307 \nL 148.151703 332.687307 \nz\n\" style=\"fill:#244747;fill-opacity:0.5;stroke:#000000;stroke-linejoin:miter;stroke-width:0.156215;\"/>\n   </g>\n   <g id=\"patch_56\">\n    <path clip-path=\"url(#p13e16421fb)\" d=\"M 149.603074 338.317344 \nL 151.054445 338.317344 \nL 151.054445 338.317344 \nL 149.603074 338.317344 \nz\n\" style=\"fill:#244747;fill-opacity:0.5;stroke:#000000;stroke-linejoin:miter;stroke-width:0.156215;\"/>\n   </g>\n   <g id=\"patch_57\">\n    <path clip-path=\"url(#p13e16421fb)\" d=\"M 151.054445 338.317344 \nL 152.505817 338.317344 \nL 152.505817 338.317344 \nL 151.054445 338.317344 \nz\n\" style=\"fill:#244747;fill-opacity:0.5;stroke:#000000;stroke-linejoin:miter;stroke-width:0.156215;\"/>\n   </g>\n   <g id=\"patch_58\">\n    <path clip-path=\"url(#p13e16421fb)\" d=\"M 152.505817 338.317344 \nL 153.957188 338.317344 \nL 153.957188 330.694374 \nL 152.505817 330.694374 \nz\n\" style=\"fill:#244747;fill-opacity:0.5;stroke:#000000;stroke-linejoin:miter;stroke-width:0.156215;\"/>\n   </g>\n   <g id=\"patch_59\">\n    <path clip-path=\"url(#p13e16421fb)\" d=\"M 153.957188 338.317344 \nL 155.408559 338.317344 \nL 155.408559 338.317344 \nL 153.957188 338.317344 \nz\n\" style=\"fill:#244747;fill-opacity:0.5;stroke:#000000;stroke-linejoin:miter;stroke-width:0.156215;\"/>\n   </g>\n   <g id=\"patch_60\">\n    <path clip-path=\"url(#p13e16421fb)\" d=\"M 155.408559 338.317344 \nL 156.85993 338.317344 \nL 156.85993 338.317344 \nL 155.408559 338.317344 \nz\n\" style=\"fill:#244747;fill-opacity:0.5;stroke:#000000;stroke-linejoin:miter;stroke-width:0.156215;\"/>\n   </g>\n   <g id=\"patch_61\">\n    <path clip-path=\"url(#p13e16421fb)\" d=\"M 156.85993 338.317344 \nL 158.311302 338.317344 \nL 158.311302 329.349144 \nL 156.85993 329.349144 \nz\n\" style=\"fill:#244747;fill-opacity:0.5;stroke:#000000;stroke-linejoin:miter;stroke-width:0.156215;\"/>\n   </g>\n   <g id=\"patch_62\">\n    <path clip-path=\"url(#p13e16421fb)\" d=\"M 158.311302 338.317344 \nL 159.762673 338.317344 \nL 159.762673 338.317344 \nL 158.311302 338.317344 \nz\n\" style=\"fill:#244747;fill-opacity:0.5;stroke:#000000;stroke-linejoin:miter;stroke-width:0.156215;\"/>\n   </g>\n   <g id=\"patch_63\">\n    <path clip-path=\"url(#p13e16421fb)\" d=\"M 159.762673 338.317344 \nL 161.214044 338.317344 \nL 161.214044 338.317344 \nL 159.762673 338.317344 \nz\n\" style=\"fill:#244747;fill-opacity:0.5;stroke:#000000;stroke-linejoin:miter;stroke-width:0.156215;\"/>\n   </g>\n   <g id=\"patch_64\">\n    <path clip-path=\"url(#p13e16421fb)\" d=\"M 161.214044 338.317344 \nL 162.665416 338.317344 \nL 162.665416 325.479532 \nL 161.214044 325.479532 \nz\n\" style=\"fill:#244747;fill-opacity:0.5;stroke:#000000;stroke-linejoin:miter;stroke-width:0.156215;\"/>\n   </g>\n   <g id=\"patch_65\">\n    <path clip-path=\"url(#p13e16421fb)\" d=\"M 162.665416 338.317344 \nL 164.116787 338.317344 \nL 164.116787 338.317344 \nL 162.665416 338.317344 \nz\n\" style=\"fill:#244747;fill-opacity:0.5;stroke:#000000;stroke-linejoin:miter;stroke-width:0.156215;\"/>\n   </g>\n   <g id=\"patch_66\">\n    <path clip-path=\"url(#p13e16421fb)\" d=\"M 164.116787 338.317344 \nL 165.568158 338.317344 \nL 165.568158 338.317344 \nL 164.116787 338.317344 \nz\n\" style=\"fill:#244747;fill-opacity:0.5;stroke:#000000;stroke-linejoin:miter;stroke-width:0.156215;\"/>\n   </g>\n   <g id=\"patch_67\">\n    <path clip-path=\"url(#p13e16421fb)\" d=\"M 165.568158 338.317344 \nL 167.019529 338.317344 \nL 167.019529 322.971757 \nL 165.568158 322.971757 \nz\n\" style=\"fill:#244747;fill-opacity:0.5;stroke:#000000;stroke-linejoin:miter;stroke-width:0.156215;\"/>\n   </g>\n   <g id=\"patch_68\">\n    <path clip-path=\"url(#p13e16421fb)\" d=\"M 167.019529 338.317344 \nL 168.470901 338.317344 \nL 168.470901 338.317344 \nL 167.019529 338.317344 \nz\n\" style=\"fill:#244747;fill-opacity:0.5;stroke:#000000;stroke-linejoin:miter;stroke-width:0.156215;\"/>\n   </g>\n   <g id=\"patch_69\">\n    <path clip-path=\"url(#p13e16421fb)\" d=\"M 168.470901 338.317344 \nL 169.922272 338.317344 \nL 169.922272 338.317344 \nL 168.470901 338.317344 \nz\n\" style=\"fill:#244747;fill-opacity:0.5;stroke:#000000;stroke-linejoin:miter;stroke-width:0.156215;\"/>\n   </g>\n   <g id=\"patch_70\">\n    <path clip-path=\"url(#p13e16421fb)\" d=\"M 169.922272 338.317344 \nL 171.373643 338.317344 \nL 171.373643 321.310979 \nL 169.922272 321.310979 \nz\n\" style=\"fill:#244747;fill-opacity:0.5;stroke:#000000;stroke-linejoin:miter;stroke-width:0.156215;\"/>\n   </g>\n   <g id=\"patch_71\">\n    <path clip-path=\"url(#p13e16421fb)\" d=\"M 171.373643 338.317344 \nL 172.825014 338.317344 \nL 172.825014 338.317344 \nL 171.373643 338.317344 \nz\n\" style=\"fill:#244747;fill-opacity:0.5;stroke:#000000;stroke-linejoin:miter;stroke-width:0.156215;\"/>\n   </g>\n   <g id=\"patch_72\">\n    <path clip-path=\"url(#p13e16421fb)\" d=\"M 172.825014 338.317344 \nL 174.276386 338.317344 \nL 174.276386 338.317344 \nL 172.825014 338.317344 \nz\n\" style=\"fill:#244747;fill-opacity:0.5;stroke:#000000;stroke-linejoin:miter;stroke-width:0.156215;\"/>\n   </g>\n   <g id=\"patch_73\">\n    <path clip-path=\"url(#p13e16421fb)\" d=\"M 174.276386 338.317344 \nL 175.727757 338.317344 \nL 175.727757 318.072463 \nL 174.276386 318.072463 \nz\n\" style=\"fill:#244747;fill-opacity:0.5;stroke:#000000;stroke-linejoin:miter;stroke-width:0.156215;\"/>\n   </g>\n   <g id=\"patch_74\">\n    <path clip-path=\"url(#p13e16421fb)\" d=\"M 175.727757 338.317344 \nL 177.179128 338.317344 \nL 177.179128 338.317344 \nL 175.727757 338.317344 \nz\n\" style=\"fill:#244747;fill-opacity:0.5;stroke:#000000;stroke-linejoin:miter;stroke-width:0.156215;\"/>\n   </g>\n   <g id=\"patch_75\">\n    <path clip-path=\"url(#p13e16421fb)\" d=\"M 177.179128 338.317344 \nL 178.630499 338.317344 \nL 178.630499 338.317344 \nL 177.179128 338.317344 \nz\n\" style=\"fill:#244747;fill-opacity:0.5;stroke:#000000;stroke-linejoin:miter;stroke-width:0.156215;\"/>\n   </g>\n   <g id=\"patch_76\">\n    <path clip-path=\"url(#p13e16421fb)\" d=\"M 178.630499 338.317344 \nL 180.081871 338.317344 \nL 180.081871 311.761507 \nL 178.630499 311.761507 \nz\n\" style=\"fill:#244747;fill-opacity:0.5;stroke:#000000;stroke-linejoin:miter;stroke-width:0.156215;\"/>\n   </g>\n   <g id=\"patch_77\">\n    <path clip-path=\"url(#p13e16421fb)\" d=\"M 180.081871 338.317344 \nL 181.533242 338.317344 \nL 181.533242 338.317344 \nL 180.081871 338.317344 \nz\n\" style=\"fill:#244747;fill-opacity:0.5;stroke:#000000;stroke-linejoin:miter;stroke-width:0.156215;\"/>\n   </g>\n   <g id=\"patch_78\">\n    <path clip-path=\"url(#p13e16421fb)\" d=\"M 181.533242 338.317344 \nL 182.984613 338.317344 \nL 182.984613 338.317344 \nL 181.533242 338.317344 \nz\n\" style=\"fill:#244747;fill-opacity:0.5;stroke:#000000;stroke-linejoin:miter;stroke-width:0.156215;\"/>\n   </g>\n   <g id=\"patch_79\">\n    <path clip-path=\"url(#p13e16421fb)\" d=\"M 182.984613 338.317344 \nL 184.435984 338.317344 \nL 184.435984 306.81239 \nL 182.984613 306.81239 \nz\n\" style=\"fill:#244747;fill-opacity:0.5;stroke:#000000;stroke-linejoin:miter;stroke-width:0.156215;\"/>\n   </g>\n   <g id=\"patch_80\">\n    <path clip-path=\"url(#p13e16421fb)\" d=\"M 184.435984 338.317344 \nL 185.887356 338.317344 \nL 185.887356 338.317344 \nL 184.435984 338.317344 \nz\n\" style=\"fill:#244747;fill-opacity:0.5;stroke:#000000;stroke-linejoin:miter;stroke-width:0.156215;\"/>\n   </g>\n   <g id=\"patch_81\">\n    <path clip-path=\"url(#p13e16421fb)\" d=\"M 185.887356 338.317344 \nL 187.338727 338.317344 \nL 187.338727 338.317344 \nL 185.887356 338.317344 \nz\n\" style=\"fill:#244747;fill-opacity:0.5;stroke:#000000;stroke-linejoin:miter;stroke-width:0.156215;\"/>\n   </g>\n   <g id=\"patch_82\">\n    <path clip-path=\"url(#p13e16421fb)\" d=\"M 187.338727 338.317344 \nL 188.790098 338.317344 \nL 188.790098 302.92617 \nL 187.338727 302.92617 \nz\n\" style=\"fill:#244747;fill-opacity:0.5;stroke:#000000;stroke-linejoin:miter;stroke-width:0.156215;\"/>\n   </g>\n   <g id=\"patch_83\">\n    <path clip-path=\"url(#p13e16421fb)\" d=\"M 188.790098 338.317344 \nL 190.241469 338.317344 \nL 190.241469 338.317344 \nL 188.790098 338.317344 \nz\n\" style=\"fill:#244747;fill-opacity:0.5;stroke:#000000;stroke-linejoin:miter;stroke-width:0.156215;\"/>\n   </g>\n   <g id=\"patch_84\">\n    <path clip-path=\"url(#p13e16421fb)\" d=\"M 190.241469 338.317344 \nL 191.692841 338.317344 \nL 191.692841 338.317344 \nL 190.241469 338.317344 \nz\n\" style=\"fill:#244747;fill-opacity:0.5;stroke:#000000;stroke-linejoin:miter;stroke-width:0.156215;\"/>\n   </g>\n   <g id=\"patch_85\">\n    <path clip-path=\"url(#p13e16421fb)\" d=\"M 191.692841 338.317344 \nL 193.144212 338.317344 \nL 193.144212 301.647371 \nL 191.692841 301.647371 \nz\n\" style=\"fill:#244747;fill-opacity:0.5;stroke:#000000;stroke-linejoin:miter;stroke-width:0.156215;\"/>\n   </g>\n   <g id=\"patch_86\">\n    <path clip-path=\"url(#p13e16421fb)\" d=\"M 193.144212 338.317344 \nL 194.595583 338.317344 \nL 194.595583 338.317344 \nL 193.144212 338.317344 \nz\n\" style=\"fill:#244747;fill-opacity:0.5;stroke:#000000;stroke-linejoin:miter;stroke-width:0.156215;\"/>\n   </g>\n   <g id=\"patch_87\">\n    <path clip-path=\"url(#p13e16421fb)\" d=\"M 194.595583 338.317344 \nL 196.046954 338.317344 \nL 196.046954 338.317344 \nL 194.595583 338.317344 \nz\n\" style=\"fill:#244747;fill-opacity:0.5;stroke:#000000;stroke-linejoin:miter;stroke-width:0.156215;\"/>\n   </g>\n   <g id=\"patch_88\">\n    <path clip-path=\"url(#p13e16421fb)\" d=\"M 196.046954 338.317344 \nL 197.498326 338.317344 \nL 197.498326 293.874931 \nL 196.046954 293.874931 \nz\n\" style=\"fill:#244747;fill-opacity:0.5;stroke:#000000;stroke-linejoin:miter;stroke-width:0.156215;\"/>\n   </g>\n   <g id=\"patch_89\">\n    <path clip-path=\"url(#p13e16421fb)\" d=\"M 197.498326 338.317344 \nL 198.949697 338.317344 \nL 198.949697 338.317344 \nL 197.498326 338.317344 \nz\n\" style=\"fill:#244747;fill-opacity:0.5;stroke:#000000;stroke-linejoin:miter;stroke-width:0.156215;\"/>\n   </g>\n   <g id=\"patch_90\">\n    <path clip-path=\"url(#p13e16421fb)\" d=\"M 198.949697 338.317344 \nL 200.401068 338.317344 \nL 200.401068 338.317344 \nL 198.949697 338.317344 \nz\n\" style=\"fill:#244747;fill-opacity:0.5;stroke:#000000;stroke-linejoin:miter;stroke-width:0.156215;\"/>\n   </g>\n   <g id=\"patch_91\">\n    <path clip-path=\"url(#p13e16421fb)\" d=\"M 200.401068 338.317344 \nL 201.852439 338.317344 \nL 201.852439 283.860441 \nL 200.401068 283.860441 \nz\n\" style=\"fill:#244747;fill-opacity:0.5;stroke:#000000;stroke-linejoin:miter;stroke-width:0.156215;\"/>\n   </g>\n   <g id=\"patch_92\">\n    <path clip-path=\"url(#p13e16421fb)\" d=\"M 201.852439 338.317344 \nL 203.303811 338.317344 \nL 203.303811 338.317344 \nL 201.852439 338.317344 \nz\n\" style=\"fill:#244747;fill-opacity:0.5;stroke:#000000;stroke-linejoin:miter;stroke-width:0.156215;\"/>\n   </g>\n   <g id=\"patch_93\">\n    <path clip-path=\"url(#p13e16421fb)\" d=\"M 203.303811 338.317344 \nL 204.755182 338.317344 \nL 204.755182 268.614501 \nL 203.303811 268.614501 \nz\n\" style=\"fill:#244747;fill-opacity:0.5;stroke:#000000;stroke-linejoin:miter;stroke-width:0.156215;\"/>\n   </g>\n   <g id=\"patch_94\">\n    <path clip-path=\"url(#p13e16421fb)\" d=\"M 204.755182 338.317344 \nL 206.206553 338.317344 \nL 206.206553 338.317344 \nL 204.755182 338.317344 \nz\n\" style=\"fill:#244747;fill-opacity:0.5;stroke:#000000;stroke-linejoin:miter;stroke-width:0.156215;\"/>\n   </g>\n   <g id=\"patch_95\">\n    <path clip-path=\"url(#p13e16421fb)\" d=\"M 206.206553 338.317344 \nL 207.657924 338.317344 \nL 207.657924 338.317344 \nL 206.206553 338.317344 \nz\n\" style=\"fill:#244747;fill-opacity:0.5;stroke:#000000;stroke-linejoin:miter;stroke-width:0.156215;\"/>\n   </g>\n   <g id=\"patch_96\">\n    <path clip-path=\"url(#p13e16421fb)\" d=\"M 207.657924 338.317344 \nL 209.109296 338.317344 \nL 209.109296 263.598952 \nL 207.657924 263.598952 \nz\n\" style=\"fill:#244747;fill-opacity:0.5;stroke:#000000;stroke-linejoin:miter;stroke-width:0.156215;\"/>\n   </g>\n   <g id=\"patch_97\">\n    <path clip-path=\"url(#p13e16421fb)\" d=\"M 209.109296 338.317344 \nL 210.560667 338.317344 \nL 210.560667 338.317344 \nL 209.109296 338.317344 \nz\n\" style=\"fill:#244747;fill-opacity:0.5;stroke:#000000;stroke-linejoin:miter;stroke-width:0.156215;\"/>\n   </g>\n   <g id=\"patch_98\">\n    <path clip-path=\"url(#p13e16421fb)\" d=\"M 210.560667 338.317344 \nL 212.012038 338.317344 \nL 212.012038 338.317344 \nL 210.560667 338.317344 \nz\n\" style=\"fill:#244747;fill-opacity:0.5;stroke:#000000;stroke-linejoin:miter;stroke-width:0.156215;\"/>\n   </g>\n   <g id=\"patch_99\">\n    <path clip-path=\"url(#p13e16421fb)\" d=\"M 212.012038 338.317344 \nL 213.463409 338.317344 \nL 213.463409 255.510964 \nL 212.012038 255.510964 \nz\n\" style=\"fill:#244747;fill-opacity:0.5;stroke:#000000;stroke-linejoin:miter;stroke-width:0.156215;\"/>\n   </g>\n   <g id=\"patch_100\">\n    <path clip-path=\"url(#p13e16421fb)\" d=\"M 213.463409 338.317344 \nL 214.914781 338.317344 \nL 214.914781 338.317344 \nL 213.463409 338.317344 \nz\n\" style=\"fill:#244747;fill-opacity:0.5;stroke:#000000;stroke-linejoin:miter;stroke-width:0.156215;\"/>\n   </g>\n   <g id=\"patch_101\">\n    <path clip-path=\"url(#p13e16421fb)\" d=\"M 214.914781 338.317344 \nL 216.366152 338.317344 \nL 216.366152 338.317344 \nL 214.914781 338.317344 \nz\n\" style=\"fill:#244747;fill-opacity:0.5;stroke:#000000;stroke-linejoin:miter;stroke-width:0.156215;\"/>\n   </g>\n   <g id=\"patch_102\">\n    <path clip-path=\"url(#p13e16421fb)\" d=\"M 216.366152 338.317344 \nL 217.817523 338.317344 \nL 217.817523 249.581988 \nL 216.366152 249.581988 \nz\n\" style=\"fill:#244747;fill-opacity:0.5;stroke:#000000;stroke-linejoin:miter;stroke-width:0.156215;\"/>\n   </g>\n   <g id=\"patch_103\">\n    <path clip-path=\"url(#p13e16421fb)\" d=\"M 217.817523 338.317344 \nL 219.268894 338.317344 \nL 219.268894 338.317344 \nL 217.817523 338.317344 \nz\n\" style=\"fill:#244747;fill-opacity:0.5;stroke:#000000;stroke-linejoin:miter;stroke-width:0.156215;\"/>\n   </g>\n   <g id=\"patch_104\">\n    <path clip-path=\"url(#p13e16421fb)\" d=\"M 219.268894 338.317344 \nL 220.720266 338.317344 \nL 220.720266 338.317344 \nL 219.268894 338.317344 \nz\n\" style=\"fill:#244747;fill-opacity:0.5;stroke:#000000;stroke-linejoin:miter;stroke-width:0.156215;\"/>\n   </g>\n   <g id=\"patch_105\">\n    <path clip-path=\"url(#p13e16421fb)\" d=\"M 220.720266 338.317344 \nL 222.171637 338.317344 \nL 222.171637 241.311314 \nL 220.720266 241.311314 \nz\n\" style=\"fill:#244747;fill-opacity:0.5;stroke:#000000;stroke-linejoin:miter;stroke-width:0.156215;\"/>\n   </g>\n   <g id=\"patch_106\">\n    <path clip-path=\"url(#p13e16421fb)\" d=\"M 222.171637 338.317344 \nL 223.623008 338.317344 \nL 223.623008 338.317344 \nL 222.171637 338.317344 \nz\n\" style=\"fill:#244747;fill-opacity:0.5;stroke:#000000;stroke-linejoin:miter;stroke-width:0.156215;\"/>\n   </g>\n   <g id=\"patch_107\">\n    <path clip-path=\"url(#p13e16421fb)\" d=\"M 223.623008 338.317344 \nL 225.074379 338.317344 \nL 225.074379 338.317344 \nL 223.623008 338.317344 \nz\n\" style=\"fill:#244747;fill-opacity:0.5;stroke:#000000;stroke-linejoin:miter;stroke-width:0.156215;\"/>\n   </g>\n   <g id=\"patch_108\">\n    <path clip-path=\"url(#p13e16421fb)\" d=\"M 225.074379 338.317344 \nL 226.525751 338.317344 \nL 226.525751 229.885163 \nL 225.074379 229.885163 \nz\n\" style=\"fill:#244747;fill-opacity:0.5;stroke:#000000;stroke-linejoin:miter;stroke-width:0.156215;\"/>\n   </g>\n   <g id=\"patch_109\">\n    <path clip-path=\"url(#p13e16421fb)\" d=\"M 226.525751 338.317344 \nL 227.977122 338.317344 \nL 227.977122 338.317344 \nL 226.525751 338.317344 \nz\n\" style=\"fill:#244747;fill-opacity:0.5;stroke:#000000;stroke-linejoin:miter;stroke-width:0.156215;\"/>\n   </g>\n   <g id=\"patch_110\">\n    <path clip-path=\"url(#p13e16421fb)\" d=\"M 227.977122 338.317344 \nL 229.428493 338.317344 \nL 229.428493 338.317344 \nL 227.977122 338.317344 \nz\n\" style=\"fill:#244747;fill-opacity:0.5;stroke:#000000;stroke-linejoin:miter;stroke-width:0.156215;\"/>\n   </g>\n   <g id=\"patch_111\">\n    <path clip-path=\"url(#p13e16421fb)\" d=\"M 229.428493 338.317344 \nL 230.879864 338.317344 \nL 230.879864 213.875266 \nL 229.428493 213.875266 \nz\n\" style=\"fill:#244747;fill-opacity:0.5;stroke:#000000;stroke-linejoin:miter;stroke-width:0.156215;\"/>\n   </g>\n   <g id=\"patch_112\">\n    <path clip-path=\"url(#p13e16421fb)\" d=\"M 230.879864 338.317344 \nL 232.331236 338.317344 \nL 232.331236 338.317344 \nL 230.879864 338.317344 \nz\n\" style=\"fill:#244747;fill-opacity:0.5;stroke:#000000;stroke-linejoin:miter;stroke-width:0.156215;\"/>\n   </g>\n   <g id=\"patch_113\">\n    <path clip-path=\"url(#p13e16421fb)\" d=\"M 232.331236 338.317344 \nL 233.782607 338.317344 \nL 233.782607 338.317344 \nL 232.331236 338.317344 \nz\n\" style=\"fill:#244747;fill-opacity:0.5;stroke:#000000;stroke-linejoin:miter;stroke-width:0.156215;\"/>\n   </g>\n   <g id=\"patch_114\">\n    <path clip-path=\"url(#p13e16421fb)\" d=\"M 233.782607 338.317344 \nL 235.233978 338.317344 \nL 235.233978 206.501412 \nL 233.782607 206.501412 \nz\n\" style=\"fill:#244747;fill-opacity:0.5;stroke:#000000;stroke-linejoin:miter;stroke-width:0.156215;\"/>\n   </g>\n   <g id=\"patch_115\">\n    <path clip-path=\"url(#p13e16421fb)\" d=\"M 235.233978 338.317344 \nL 236.685349 338.317344 \nL 236.685349 338.317344 \nL 235.233978 338.317344 \nz\n\" style=\"fill:#244747;fill-opacity:0.5;stroke:#000000;stroke-linejoin:miter;stroke-width:0.156215;\"/>\n   </g>\n   <g id=\"patch_116\">\n    <path clip-path=\"url(#p13e16421fb)\" d=\"M 236.685349 338.317344 \nL 238.136721 338.317344 \nL 238.136721 338.317344 \nL 236.685349 338.317344 \nz\n\" style=\"fill:#244747;fill-opacity:0.5;stroke:#000000;stroke-linejoin:miter;stroke-width:0.156215;\"/>\n   </g>\n   <g id=\"patch_117\">\n    <path clip-path=\"url(#p13e16421fb)\" d=\"M 238.136721 338.317344 \nL 239.588092 338.317344 \nL 239.588092 194.477381 \nL 238.136721 194.477381 \nz\n\" style=\"fill:#244747;fill-opacity:0.5;stroke:#000000;stroke-linejoin:miter;stroke-width:0.156215;\"/>\n   </g>\n   <g id=\"patch_118\">\n    <path clip-path=\"url(#p13e16421fb)\" d=\"M 239.588092 338.317344 \nL 241.039463 338.317344 \nL 241.039463 338.317344 \nL 239.588092 338.317344 \nz\n\" style=\"fill:#244747;fill-opacity:0.5;stroke:#000000;stroke-linejoin:miter;stroke-width:0.156215;\"/>\n   </g>\n   <g id=\"patch_119\">\n    <path clip-path=\"url(#p13e16421fb)\" d=\"M 241.039463 338.317344 \nL 242.490834 338.317344 \nL 242.490834 338.317344 \nL 241.039463 338.317344 \nz\n\" style=\"fill:#244747;fill-opacity:0.5;stroke:#000000;stroke-linejoin:miter;stroke-width:0.156215;\"/>\n   </g>\n   <g id=\"patch_120\">\n    <path clip-path=\"url(#p13e16421fb)\" d=\"M 242.490834 338.317344 \nL 243.942206 338.317344 \nL 243.942206 182.386919 \nL 242.490834 182.386919 \nz\n\" style=\"fill:#244747;fill-opacity:0.5;stroke:#000000;stroke-linejoin:miter;stroke-width:0.156215;\"/>\n   </g>\n   <g id=\"patch_121\">\n    <path clip-path=\"url(#p13e16421fb)\" d=\"M 243.942206 338.317344 \nL 245.393577 338.317344 \nL 245.393577 338.317344 \nL 243.942206 338.317344 \nz\n\" style=\"fill:#244747;fill-opacity:0.5;stroke:#000000;stroke-linejoin:miter;stroke-width:0.156215;\"/>\n   </g>\n   <g id=\"patch_122\">\n    <path clip-path=\"url(#p13e16421fb)\" d=\"M 245.393577 338.317344 \nL 246.844948 338.317344 \nL 246.844948 338.317344 \nL 245.393577 338.317344 \nz\n\" style=\"fill:#244747;fill-opacity:0.5;stroke:#000000;stroke-linejoin:miter;stroke-width:0.156215;\"/>\n   </g>\n   <g id=\"patch_123\">\n    <path clip-path=\"url(#p13e16421fb)\" d=\"M 246.844948 338.317344 \nL 248.29632 338.317344 \nL 248.29632 173.800698 \nL 246.844948 173.800698 \nz\n\" style=\"fill:#244747;fill-opacity:0.5;stroke:#000000;stroke-linejoin:miter;stroke-width:0.156215;\"/>\n   </g>\n   <g id=\"patch_124\">\n    <path clip-path=\"url(#p13e16421fb)\" d=\"M 248.29632 338.317344 \nL 249.747691 338.317344 \nL 249.747691 338.317344 \nL 248.29632 338.317344 \nz\n\" style=\"fill:#244747;fill-opacity:0.5;stroke:#000000;stroke-linejoin:miter;stroke-width:0.156215;\"/>\n   </g>\n   <g id=\"patch_125\">\n    <path clip-path=\"url(#p13e16421fb)\" d=\"M 249.747691 338.317344 \nL 251.199062 338.317344 \nL 251.199062 338.317344 \nL 249.747691 338.317344 \nz\n\" style=\"fill:#244747;fill-opacity:0.5;stroke:#000000;stroke-linejoin:miter;stroke-width:0.156215;\"/>\n   </g>\n   <g id=\"patch_126\">\n    <path clip-path=\"url(#p13e16421fb)\" d=\"M 251.199062 338.317344 \nL 252.650433 338.317344 \nL 252.650433 162.241685 \nL 251.199062 162.241685 \nz\n\" style=\"fill:#244747;fill-opacity:0.5;stroke:#000000;stroke-linejoin:miter;stroke-width:0.156215;\"/>\n   </g>\n   <g id=\"patch_127\">\n    <path clip-path=\"url(#p13e16421fb)\" d=\"M 252.650433 338.317344 \nL 254.101805 338.317344 \nL 254.101805 338.317344 \nL 252.650433 338.317344 \nz\n\" style=\"fill:#244747;fill-opacity:0.5;stroke:#000000;stroke-linejoin:miter;stroke-width:0.156215;\"/>\n   </g>\n   <g id=\"patch_128\">\n    <path clip-path=\"url(#p13e16421fb)\" d=\"M 254.101805 338.317344 \nL 255.553176 338.317344 \nL 255.553176 338.317344 \nL 254.101805 338.317344 \nz\n\" style=\"fill:#244747;fill-opacity:0.5;stroke:#000000;stroke-linejoin:miter;stroke-width:0.156215;\"/>\n   </g>\n   <g id=\"patch_129\">\n    <path clip-path=\"url(#p13e16421fb)\" d=\"M 255.553176 338.317344 \nL 257.004547 338.317344 \nL 257.004547 142.411998 \nL 255.553176 142.411998 \nz\n\" style=\"fill:#244747;fill-opacity:0.5;stroke:#000000;stroke-linejoin:miter;stroke-width:0.156215;\"/>\n   </g>\n   <g id=\"patch_130\">\n    <path clip-path=\"url(#p13e16421fb)\" d=\"M 257.004547 338.317344 \nL 258.455918 338.317344 \nL 258.455918 338.317344 \nL 257.004547 338.317344 \nz\n\" style=\"fill:#244747;fill-opacity:0.5;stroke:#000000;stroke-linejoin:miter;stroke-width:0.156215;\"/>\n   </g>\n   <g id=\"patch_131\">\n    <path clip-path=\"url(#p13e16421fb)\" d=\"M 258.455918 338.317344 \nL 259.90729 338.317344 \nL 259.90729 338.317344 \nL 258.455918 338.317344 \nz\n\" style=\"fill:#244747;fill-opacity:0.5;stroke:#000000;stroke-linejoin:miter;stroke-width:0.156215;\"/>\n   </g>\n   <g id=\"patch_132\">\n    <path clip-path=\"url(#p13e16421fb)\" d=\"M 259.90729 338.317344 \nL 261.358661 338.317344 \nL 261.358661 113.315172 \nL 259.90729 113.315172 \nz\n\" style=\"fill:#244747;fill-opacity:0.5;stroke:#000000;stroke-linejoin:miter;stroke-width:0.156215;\"/>\n   </g>\n   <g id=\"patch_133\">\n    <path clip-path=\"url(#p13e16421fb)\" d=\"M 261.358661 338.317344 \nL 262.810032 338.317344 \nL 262.810032 338.317344 \nL 261.358661 338.317344 \nz\n\" style=\"fill:#244747;fill-opacity:0.5;stroke:#000000;stroke-linejoin:miter;stroke-width:0.156215;\"/>\n   </g>\n   <g id=\"patch_134\">\n    <path clip-path=\"url(#p13e16421fb)\" d=\"M 262.810032 338.317344 \nL 264.261403 338.317344 \nL 264.261403 338.317344 \nL 262.810032 338.317344 \nz\n\" style=\"fill:#244747;fill-opacity:0.5;stroke:#000000;stroke-linejoin:miter;stroke-width:0.156215;\"/>\n   </g>\n   <g id=\"patch_135\">\n    <path clip-path=\"url(#p13e16421fb)\" d=\"M 264.261403 338.317344 \nL 265.712775 338.317344 \nL 265.712775 105.293615 \nL 264.261403 105.293615 \nz\n\" style=\"fill:#244747;fill-opacity:0.5;stroke:#000000;stroke-linejoin:miter;stroke-width:0.156215;\"/>\n   </g>\n   <g id=\"patch_136\">\n    <path clip-path=\"url(#p13e16421fb)\" d=\"M 265.712775 338.317344 \nL 267.164146 338.317344 \nL 267.164146 338.317344 \nL 265.712775 338.317344 \nz\n\" style=\"fill:#244747;fill-opacity:0.5;stroke:#000000;stroke-linejoin:miter;stroke-width:0.156215;\"/>\n   </g>\n   <g id=\"patch_137\">\n    <path clip-path=\"url(#p13e16421fb)\" d=\"M 267.164146 338.317344 \nL 268.615517 338.317344 \nL 268.615517 90.994319 \nL 267.164146 90.994319 \nz\n\" style=\"fill:#244747;fill-opacity:0.5;stroke:#000000;stroke-linejoin:miter;stroke-width:0.156215;\"/>\n   </g>\n   <g id=\"patch_138\">\n    <path clip-path=\"url(#p13e16421fb)\" d=\"M 268.615517 338.317344 \nL 270.066888 338.317344 \nL 270.066888 338.317344 \nL 268.615517 338.317344 \nz\n\" style=\"fill:#244747;fill-opacity:0.5;stroke:#000000;stroke-linejoin:miter;stroke-width:0.156215;\"/>\n   </g>\n   <g id=\"patch_139\">\n    <path clip-path=\"url(#p13e16421fb)\" d=\"M 270.066888 338.317344 \nL 271.51826 338.317344 \nL 271.51826 338.317344 \nL 270.066888 338.317344 \nz\n\" style=\"fill:#244747;fill-opacity:0.5;stroke:#000000;stroke-linejoin:miter;stroke-width:0.156215;\"/>\n   </g>\n   <g id=\"patch_140\">\n    <path clip-path=\"url(#p13e16421fb)\" d=\"M 271.51826 338.317344 \nL 272.969631 338.317344 \nL 272.969631 76.462513 \nL 271.51826 76.462513 \nz\n\" style=\"fill:#244747;fill-opacity:0.5;stroke:#000000;stroke-linejoin:miter;stroke-width:0.156215;\"/>\n   </g>\n   <g id=\"patch_141\">\n    <path clip-path=\"url(#p13e16421fb)\" d=\"M 272.969631 338.317344 \nL 274.421002 338.317344 \nL 274.421002 338.317344 \nL 272.969631 338.317344 \nz\n\" style=\"fill:#244747;fill-opacity:0.5;stroke:#000000;stroke-linejoin:miter;stroke-width:0.156215;\"/>\n   </g>\n   <g id=\"patch_142\">\n    <path clip-path=\"url(#p13e16421fb)\" d=\"M 274.421002 338.317344 \nL 275.872373 338.317344 \nL 275.872373 338.317344 \nL 274.421002 338.317344 \nz\n\" style=\"fill:#244747;fill-opacity:0.5;stroke:#000000;stroke-linejoin:miter;stroke-width:0.156215;\"/>\n   </g>\n   <g id=\"patch_143\">\n    <path clip-path=\"url(#p13e16421fb)\" d=\"M 275.872373 338.317344 \nL 277.323745 338.317344 \nL 277.323745 48.810563 \nL 275.872373 48.810563 \nz\n\" style=\"fill:#244747;fill-opacity:0.5;stroke:#000000;stroke-linejoin:miter;stroke-width:0.156215;\"/>\n   </g>\n   <g id=\"patch_144\">\n    <path clip-path=\"url(#p13e16421fb)\" d=\"M 277.323745 338.317344 \nL 278.775116 338.317344 \nL 278.775116 338.317344 \nL 277.323745 338.317344 \nz\n\" style=\"fill:#244747;fill-opacity:0.5;stroke:#000000;stroke-linejoin:miter;stroke-width:0.156215;\"/>\n   </g>\n   <g id=\"patch_145\">\n    <path clip-path=\"url(#p13e16421fb)\" d=\"M 278.775116 338.317344 \nL 280.226487 338.317344 \nL 280.226487 338.317344 \nL 278.775116 338.317344 \nz\n\" style=\"fill:#244747;fill-opacity:0.5;stroke:#000000;stroke-linejoin:miter;stroke-width:0.156215;\"/>\n   </g>\n   <g id=\"patch_146\">\n    <path clip-path=\"url(#p13e16421fb)\" d=\"M 280.226487 338.317344 \nL 281.677858 338.317344 \nL 281.677858 52.082296 \nL 280.226487 52.082296 \nz\n\" style=\"fill:#244747;fill-opacity:0.5;stroke:#000000;stroke-linejoin:miter;stroke-width:0.156215;\"/>\n   </g>\n   <g id=\"patch_147\">\n    <path clip-path=\"url(#p13e16421fb)\" d=\"M 281.677858 338.317344 \nL 283.12923 338.317344 \nL 283.12923 338.317344 \nL 281.677858 338.317344 \nz\n\" style=\"fill:#244747;fill-opacity:0.5;stroke:#000000;stroke-linejoin:miter;stroke-width:0.156215;\"/>\n   </g>\n   <g id=\"patch_148\">\n    <path clip-path=\"url(#p13e16421fb)\" d=\"M 283.12923 338.317344 \nL 284.580601 338.317344 \nL 284.580601 338.317344 \nL 283.12923 338.317344 \nz\n\" style=\"fill:#244747;fill-opacity:0.5;stroke:#000000;stroke-linejoin:miter;stroke-width:0.156215;\"/>\n   </g>\n   <g id=\"patch_149\">\n    <path clip-path=\"url(#p13e16421fb)\" d=\"M 284.580601 338.317344 \nL 286.031972 338.317344 \nL 286.031972 50.006323 \nL 284.580601 50.006323 \nz\n\" style=\"fill:#244747;fill-opacity:0.5;stroke:#000000;stroke-linejoin:miter;stroke-width:0.156215;\"/>\n   </g>\n   <g id=\"patch_150\">\n    <path clip-path=\"url(#p13e16421fb)\" d=\"M 286.031972 338.317344 \nL 287.483343 338.317344 \nL 287.483343 338.317344 \nL 286.031972 338.317344 \nz\n\" style=\"fill:#244747;fill-opacity:0.5;stroke:#000000;stroke-linejoin:miter;stroke-width:0.156215;\"/>\n   </g>\n   <g id=\"patch_151\">\n    <path clip-path=\"url(#p13e16421fb)\" d=\"M 287.483343 338.317344 \nL 288.934715 338.317344 \nL 288.934715 338.317344 \nL 287.483343 338.317344 \nz\n\" style=\"fill:#244747;fill-opacity:0.5;stroke:#000000;stroke-linejoin:miter;stroke-width:0.156215;\"/>\n   </g>\n   <g id=\"patch_152\">\n    <path clip-path=\"url(#p13e16421fb)\" d=\"M 288.934715 338.317344 \nL 290.386086 338.317344 \nL 290.386086 45.555439 \nL 288.934715 45.555439 \nz\n\" style=\"fill:#244747;fill-opacity:0.5;stroke:#000000;stroke-linejoin:miter;stroke-width:0.156215;\"/>\n   </g>\n   <g id=\"patch_153\">\n    <path clip-path=\"url(#p13e16421fb)\" d=\"M 290.386086 338.317344 \nL 291.837457 338.317344 \nL 291.837457 338.317344 \nL 290.386086 338.317344 \nz\n\" style=\"fill:#244747;fill-opacity:0.5;stroke:#000000;stroke-linejoin:miter;stroke-width:0.156215;\"/>\n   </g>\n   <g id=\"patch_154\">\n    <path clip-path=\"url(#p13e16421fb)\" d=\"M 291.837457 338.317344 \nL 293.288828 338.317344 \nL 293.288828 338.317344 \nL 291.837457 338.317344 \nz\n\" style=\"fill:#244747;fill-opacity:0.5;stroke:#000000;stroke-linejoin:miter;stroke-width:0.156215;\"/>\n   </g>\n   <g id=\"patch_155\">\n    <path clip-path=\"url(#p13e16421fb)\" d=\"M 293.288828 338.317344 \nL 294.7402 338.317344 \nL 294.7402 99.846264 \nL 293.288828 99.846264 \nz\n\" style=\"fill:#244747;fill-opacity:0.5;stroke:#000000;stroke-linejoin:miter;stroke-width:0.156215;\"/>\n   </g>\n   <g id=\"patch_156\">\n    <path clip-path=\"url(#p13e16421fb)\" d=\"M 294.7402 338.317344 \nL 296.191571 338.317344 \nL 296.191571 338.317344 \nL 294.7402 338.317344 \nz\n\" style=\"fill:#244747;fill-opacity:0.5;stroke:#000000;stroke-linejoin:miter;stroke-width:0.156215;\"/>\n   </g>\n   <g id=\"patch_157\">\n    <path clip-path=\"url(#p13e16421fb)\" d=\"M 296.191571 338.317344 \nL 297.642942 338.317344 \nL 297.642942 338.317344 \nL 296.191571 338.317344 \nz\n\" style=\"fill:#244747;fill-opacity:0.5;stroke:#000000;stroke-linejoin:miter;stroke-width:0.156215;\"/>\n   </g>\n   <g id=\"patch_158\">\n    <path clip-path=\"url(#p13e16421fb)\" d=\"M 297.642942 338.317344 \nL 299.094313 338.317344 \nL 299.094313 241.34453 \nL 297.642942 241.34453 \nz\n\" style=\"fill:#244747;fill-opacity:0.5;stroke:#000000;stroke-linejoin:miter;stroke-width:0.156215;\"/>\n   </g>\n   <g id=\"patch_159\">\n    <path clip-path=\"url(#p13e16421fb)\" d=\"M 299.094313 338.317344 \nL 300.545685 338.317344 \nL 300.545685 338.317344 \nL 299.094313 338.317344 \nz\n\" style=\"fill:#244747;fill-opacity:0.5;stroke:#000000;stroke-linejoin:miter;stroke-width:0.156215;\"/>\n   </g>\n   <g id=\"patch_160\">\n    <path clip-path=\"url(#p13e16421fb)\" d=\"M 300.545685 338.317344 \nL 301.997056 338.317344 \nL 301.997056 338.317344 \nL 300.545685 338.317344 \nz\n\" style=\"fill:#244747;fill-opacity:0.5;stroke:#000000;stroke-linejoin:miter;stroke-width:0.156215;\"/>\n   </g>\n   <g id=\"patch_161\">\n    <path clip-path=\"url(#p13e16421fb)\" d=\"M 301.997056 338.317344 \nL 303.448427 338.317344 \nL 303.448427 337.553386 \nL 301.997056 337.553386 \nz\n\" style=\"fill:#244747;fill-opacity:0.5;stroke:#000000;stroke-linejoin:miter;stroke-width:0.156215;\"/>\n   </g>\n   <g id=\"patch_162\">\n    <path clip-path=\"url(#p13e16421fb)\" d=\"M 303.448427 338.317344 \nL 304.899798 338.317344 \nL 304.899798 338.317344 \nL 303.448427 338.317344 \nz\n\" style=\"fill:#244747;fill-opacity:0.5;stroke:#000000;stroke-linejoin:miter;stroke-width:0.156215;\"/>\n   </g>\n   <g id=\"patch_163\">\n    <path clip-path=\"url(#p13e16421fb)\" d=\"M 304.899798 338.317344 \nL 306.35117 338.317344 \nL 306.35117 338.317344 \nL 304.899798 338.317344 \nz\n\" style=\"fill:#244747;fill-opacity:0.5;stroke:#000000;stroke-linejoin:miter;stroke-width:0.156215;\"/>\n   </g>\n   <g id=\"patch_164\">\n    <path clip-path=\"url(#p13e16421fb)\" d=\"M 306.35117 338.317344 \nL 307.802541 338.317344 \nL 307.802541 338.26752 \nL 306.35117 338.26752 \nz\n\" style=\"fill:#244747;fill-opacity:0.5;stroke:#000000;stroke-linejoin:miter;stroke-width:0.156215;\"/>\n   </g>\n   <g id=\"patch_165\">\n    <path clip-path=\"url(#p13e16421fb)\" d=\"M 307.802541 338.317344 \nL 309.253912 338.317344 \nL 309.253912 338.317344 \nL 307.802541 338.317344 \nz\n\" style=\"fill:#244747;fill-opacity:0.5;stroke:#000000;stroke-linejoin:miter;stroke-width:0.156215;\"/>\n   </g>\n   <g id=\"patch_166\">\n    <path clip-path=\"url(#p13e16421fb)\" d=\"M 309.253912 338.317344 \nL 310.705283 338.317344 \nL 310.705283 338.317344 \nL 309.253912 338.317344 \nz\n\" style=\"fill:#244747;fill-opacity:0.5;stroke:#000000;stroke-linejoin:miter;stroke-width:0.156215;\"/>\n   </g>\n   <g id=\"patch_167\">\n    <path clip-path=\"url(#p13e16421fb)\" d=\"M 310.705283 338.317344 \nL 312.156655 338.317344 \nL 312.156655 338.317344 \nL 310.705283 338.317344 \nz\n\" style=\"fill:#244747;fill-opacity:0.5;stroke:#000000;stroke-linejoin:miter;stroke-width:0.156215;\"/>\n   </g>\n   <g id=\"patch_168\">\n    <path clip-path=\"url(#p13e16421fb)\" d=\"M 312.156655 338.317344 \nL 313.608026 338.317344 \nL 313.608026 338.317344 \nL 312.156655 338.317344 \nz\n\" style=\"fill:#244747;fill-opacity:0.5;stroke:#000000;stroke-linejoin:miter;stroke-width:0.156215;\"/>\n   </g>\n   <g id=\"patch_169\">\n    <path clip-path=\"url(#p13e16421fb)\" d=\"M 313.608026 338.317344 \nL 315.059397 338.317344 \nL 315.059397 338.317344 \nL 313.608026 338.317344 \nz\n\" style=\"fill:#244747;fill-opacity:0.5;stroke:#000000;stroke-linejoin:miter;stroke-width:0.156215;\"/>\n   </g>\n   <g id=\"patch_170\">\n    <path clip-path=\"url(#p13e16421fb)\" d=\"M 315.059397 338.317344 \nL 316.510768 338.317344 \nL 316.510768 338.300736 \nL 315.059397 338.300736 \nz\n\" style=\"fill:#244747;fill-opacity:0.5;stroke:#000000;stroke-linejoin:miter;stroke-width:0.156215;\"/>\n   </g>\n   <g id=\"patch_171\">\n    <path clip-path=\"url(#p13e16421fb)\" d=\"M 316.510768 338.317344 \nL 317.96214 338.317344 \nL 317.96214 338.317344 \nL 316.510768 338.317344 \nz\n\" style=\"fill:#244747;fill-opacity:0.5;stroke:#000000;stroke-linejoin:miter;stroke-width:0.156215;\"/>\n   </g>\n   <g id=\"patch_172\">\n    <path clip-path=\"url(#p13e16421fb)\" d=\"M 317.96214 338.317344 \nL 319.413511 338.317344 \nL 319.413511 338.317344 \nL 317.96214 338.317344 \nz\n\" style=\"fill:#244747;fill-opacity:0.5;stroke:#000000;stroke-linejoin:miter;stroke-width:0.156215;\"/>\n   </g>\n   <g id=\"patch_173\">\n    <path clip-path=\"url(#p13e16421fb)\" d=\"M 319.413511 338.317344 \nL 320.864882 338.317344 \nL 320.864882 338.317344 \nL 319.413511 338.317344 \nz\n\" style=\"fill:#244747;fill-opacity:0.5;stroke:#000000;stroke-linejoin:miter;stroke-width:0.156215;\"/>\n   </g>\n   <g id=\"patch_174\">\n    <path clip-path=\"url(#p13e16421fb)\" d=\"M 320.864882 338.317344 \nL 322.316253 338.317344 \nL 322.316253 338.317344 \nL 320.864882 338.317344 \nz\n\" style=\"fill:#244747;fill-opacity:0.5;stroke:#000000;stroke-linejoin:miter;stroke-width:0.156215;\"/>\n   </g>\n   <g id=\"patch_175\">\n    <path clip-path=\"url(#p13e16421fb)\" d=\"M 322.316253 338.317344 \nL 323.767625 338.317344 \nL 323.767625 338.317344 \nL 322.316253 338.317344 \nz\n\" style=\"fill:#244747;fill-opacity:0.5;stroke:#000000;stroke-linejoin:miter;stroke-width:0.156215;\"/>\n   </g>\n   <g id=\"patch_176\">\n    <path clip-path=\"url(#p13e16421fb)\" d=\"M 323.767625 338.317344 \nL 325.218996 338.317344 \nL 325.218996 338.284128 \nL 323.767625 338.284128 \nz\n\" style=\"fill:#244747;fill-opacity:0.5;stroke:#000000;stroke-linejoin:miter;stroke-width:0.156215;\"/>\n   </g>\n   <g id=\"patch_177\">\n    <path clip-path=\"url(#p13e16421fb)\" d=\"M 325.218996 338.317344 \nL 326.670367 338.317344 \nL 326.670367 338.317344 \nL 325.218996 338.317344 \nz\n\" style=\"fill:#244747;fill-opacity:0.5;stroke:#000000;stroke-linejoin:miter;stroke-width:0.156215;\"/>\n   </g>\n   <g id=\"patch_178\">\n    <path clip-path=\"url(#p13e16421fb)\" d=\"M 326.670367 338.317344 \nL 328.121739 338.317344 \nL 328.121739 338.317344 \nL 326.670367 338.317344 \nz\n\" style=\"fill:#244747;fill-opacity:0.5;stroke:#000000;stroke-linejoin:miter;stroke-width:0.156215;\"/>\n   </g>\n   <g id=\"patch_179\">\n    <path clip-path=\"url(#p13e16421fb)\" d=\"M 328.121739 338.317344 \nL 329.57311 338.317344 \nL 329.57311 338.284128 \nL 328.121739 338.284128 \nz\n\" style=\"fill:#244747;fill-opacity:0.5;stroke:#000000;stroke-linejoin:miter;stroke-width:0.156215;\"/>\n   </g>\n   <g id=\"patch_180\">\n    <path clip-path=\"url(#p13e16421fb)\" d=\"M 329.57311 338.317344 \nL 331.024481 338.317344 \nL 331.024481 338.317344 \nL 329.57311 338.317344 \nz\n\" style=\"fill:#244747;fill-opacity:0.5;stroke:#000000;stroke-linejoin:miter;stroke-width:0.156215;\"/>\n   </g>\n   <g id=\"patch_181\">\n    <path clip-path=\"url(#p13e16421fb)\" d=\"M 331.024481 338.317344 \nL 332.475852 338.317344 \nL 332.475852 338.300736 \nL 331.024481 338.300736 \nz\n\" style=\"fill:#244747;fill-opacity:0.5;stroke:#000000;stroke-linejoin:miter;stroke-width:0.156215;\"/>\n   </g>\n   <g id=\"matplotlib.axis_1\">\n    <g id=\"xtick_1\">\n     <g id=\"line2d_1\">\n      <defs>\n       <path d=\"M 0 0 \nL 0 3.5 \n\" id=\"m6fe28e242b\" style=\"stroke:#000000;stroke-width:0.8;\"/>\n      </defs>\n      <g>\n       <use style=\"stroke:#000000;stroke-width:0.8;\" x=\"68.421456\" xlink:href=\"#m6fe28e242b\" y=\"338.317344\"/>\n      </g>\n     </g>\n     <g id=\"text_1\">\n      <!-- 1950 -->\n      <g transform=\"translate(55.696456 352.915781)scale(0.1 -0.1)\">\n       <defs>\n        <path d=\"M 794 531 \nL 1825 531 \nL 1825 4091 \nL 703 3866 \nL 703 4441 \nL 1819 4666 \nL 2450 4666 \nL 2450 531 \nL 3481 531 \nL 3481 0 \nL 794 0 \nL 794 531 \nz\n\" id=\"DejaVuSans-31\" transform=\"scale(0.015625)\"/>\n        <path d=\"M 703 97 \nL 703 672 \nQ 941 559 1184 500 \nQ 1428 441 1663 441 \nQ 2288 441 2617 861 \nQ 2947 1281 2994 2138 \nQ 2813 1869 2534 1725 \nQ 2256 1581 1919 1581 \nQ 1219 1581 811 2004 \nQ 403 2428 403 3163 \nQ 403 3881 828 4315 \nQ 1253 4750 1959 4750 \nQ 2769 4750 3195 4129 \nQ 3622 3509 3622 2328 \nQ 3622 1225 3098 567 \nQ 2575 -91 1691 -91 \nQ 1453 -91 1209 -44 \nQ 966 3 703 97 \nz\nM 1959 2075 \nQ 2384 2075 2632 2365 \nQ 2881 2656 2881 3163 \nQ 2881 3666 2632 3958 \nQ 2384 4250 1959 4250 \nQ 1534 4250 1286 3958 \nQ 1038 3666 1038 3163 \nQ 1038 2656 1286 2365 \nQ 1534 2075 1959 2075 \nz\n\" id=\"DejaVuSans-39\" transform=\"scale(0.015625)\"/>\n        <path d=\"M 691 4666 \nL 3169 4666 \nL 3169 4134 \nL 1269 4134 \nL 1269 2991 \nQ 1406 3038 1543 3061 \nQ 1681 3084 1819 3084 \nQ 2600 3084 3056 2656 \nQ 3513 2228 3513 1497 \nQ 3513 744 3044 326 \nQ 2575 -91 1722 -91 \nQ 1428 -91 1123 -41 \nQ 819 9 494 109 \nL 494 744 \nQ 775 591 1075 516 \nQ 1375 441 1709 441 \nQ 2250 441 2565 725 \nQ 2881 1009 2881 1497 \nQ 2881 1984 2565 2268 \nQ 2250 2553 1709 2553 \nQ 1456 2553 1204 2497 \nQ 953 2441 691 2322 \nL 691 4666 \nz\n\" id=\"DejaVuSans-35\" transform=\"scale(0.015625)\"/>\n        <path d=\"M 2034 4250 \nQ 1547 4250 1301 3770 \nQ 1056 3291 1056 2328 \nQ 1056 1369 1301 889 \nQ 1547 409 2034 409 \nQ 2525 409 2770 889 \nQ 3016 1369 3016 2328 \nQ 3016 3291 2770 3770 \nQ 2525 4250 2034 4250 \nz\nM 2034 4750 \nQ 2819 4750 3233 4129 \nQ 3647 3509 3647 2328 \nQ 3647 1150 3233 529 \nQ 2819 -91 2034 -91 \nQ 1250 -91 836 529 \nQ 422 1150 422 2328 \nQ 422 3509 836 4129 \nQ 1250 4750 2034 4750 \nz\n\" id=\"DejaVuSans-30\" transform=\"scale(0.015625)\"/>\n       </defs>\n       <use xlink:href=\"#DejaVuSans-31\"/>\n       <use x=\"63.623047\" xlink:href=\"#DejaVuSans-39\"/>\n       <use x=\"127.246094\" xlink:href=\"#DejaVuSans-35\"/>\n       <use x=\"190.869141\" xlink:href=\"#DejaVuSans-30\"/>\n      </g>\n     </g>\n    </g>\n    <g id=\"xtick_2\">\n     <g id=\"line2d_2\">\n      <g>\n       <use style=\"stroke:#000000;stroke-width:0.8;\" x=\"111.010875\" xlink:href=\"#m6fe28e242b\" y=\"338.317344\"/>\n      </g>\n     </g>\n     <g id=\"text_2\">\n      <!-- 1960 -->\n      <g transform=\"translate(98.285875 352.915781)scale(0.1 -0.1)\">\n       <defs>\n        <path d=\"M 2113 2584 \nQ 1688 2584 1439 2293 \nQ 1191 2003 1191 1497 \nQ 1191 994 1439 701 \nQ 1688 409 2113 409 \nQ 2538 409 2786 701 \nQ 3034 994 3034 1497 \nQ 3034 2003 2786 2293 \nQ 2538 2584 2113 2584 \nz\nM 3366 4563 \nL 3366 3988 \nQ 3128 4100 2886 4159 \nQ 2644 4219 2406 4219 \nQ 1781 4219 1451 3797 \nQ 1122 3375 1075 2522 \nQ 1259 2794 1537 2939 \nQ 1816 3084 2150 3084 \nQ 2853 3084 3261 2657 \nQ 3669 2231 3669 1497 \nQ 3669 778 3244 343 \nQ 2819 -91 2113 -91 \nQ 1303 -91 875 529 \nQ 447 1150 447 2328 \nQ 447 3434 972 4092 \nQ 1497 4750 2381 4750 \nQ 2619 4750 2861 4703 \nQ 3103 4656 3366 4563 \nz\n\" id=\"DejaVuSans-36\" transform=\"scale(0.015625)\"/>\n       </defs>\n       <use xlink:href=\"#DejaVuSans-31\"/>\n       <use x=\"63.623047\" xlink:href=\"#DejaVuSans-39\"/>\n       <use x=\"127.246094\" xlink:href=\"#DejaVuSans-36\"/>\n       <use x=\"190.869141\" xlink:href=\"#DejaVuSans-30\"/>\n      </g>\n     </g>\n    </g>\n    <g id=\"xtick_3\">\n     <g id=\"line2d_3\">\n      <g>\n       <use style=\"stroke:#000000;stroke-width:0.8;\" x=\"153.600293\" xlink:href=\"#m6fe28e242b\" y=\"338.317344\"/>\n      </g>\n     </g>\n     <g id=\"text_3\">\n      <!-- 1970 -->\n      <g transform=\"translate(140.875293 352.915781)scale(0.1 -0.1)\">\n       <defs>\n        <path d=\"M 525 4666 \nL 3525 4666 \nL 3525 4397 \nL 1831 0 \nL 1172 0 \nL 2766 4134 \nL 525 4134 \nL 525 4666 \nz\n\" id=\"DejaVuSans-37\" transform=\"scale(0.015625)\"/>\n       </defs>\n       <use xlink:href=\"#DejaVuSans-31\"/>\n       <use x=\"63.623047\" xlink:href=\"#DejaVuSans-39\"/>\n       <use x=\"127.246094\" xlink:href=\"#DejaVuSans-37\"/>\n       <use x=\"190.869141\" xlink:href=\"#DejaVuSans-30\"/>\n      </g>\n     </g>\n    </g>\n    <g id=\"xtick_4\">\n     <g id=\"line2d_4\">\n      <g>\n       <use style=\"stroke:#000000;stroke-width:0.8;\" x=\"196.189712\" xlink:href=\"#m6fe28e242b\" y=\"338.317344\"/>\n      </g>\n     </g>\n     <g id=\"text_4\">\n      <!-- 1980 -->\n      <g transform=\"translate(183.464712 352.915781)scale(0.1 -0.1)\">\n       <defs>\n        <path d=\"M 2034 2216 \nQ 1584 2216 1326 1975 \nQ 1069 1734 1069 1313 \nQ 1069 891 1326 650 \nQ 1584 409 2034 409 \nQ 2484 409 2743 651 \nQ 3003 894 3003 1313 \nQ 3003 1734 2745 1975 \nQ 2488 2216 2034 2216 \nz\nM 1403 2484 \nQ 997 2584 770 2862 \nQ 544 3141 544 3541 \nQ 544 4100 942 4425 \nQ 1341 4750 2034 4750 \nQ 2731 4750 3128 4425 \nQ 3525 4100 3525 3541 \nQ 3525 3141 3298 2862 \nQ 3072 2584 2669 2484 \nQ 3125 2378 3379 2068 \nQ 3634 1759 3634 1313 \nQ 3634 634 3220 271 \nQ 2806 -91 2034 -91 \nQ 1263 -91 848 271 \nQ 434 634 434 1313 \nQ 434 1759 690 2068 \nQ 947 2378 1403 2484 \nz\nM 1172 3481 \nQ 1172 3119 1398 2916 \nQ 1625 2713 2034 2713 \nQ 2441 2713 2670 2916 \nQ 2900 3119 2900 3481 \nQ 2900 3844 2670 4047 \nQ 2441 4250 2034 4250 \nQ 1625 4250 1398 4047 \nQ 1172 3844 1172 3481 \nz\n\" id=\"DejaVuSans-38\" transform=\"scale(0.015625)\"/>\n       </defs>\n       <use xlink:href=\"#DejaVuSans-31\"/>\n       <use x=\"63.623047\" xlink:href=\"#DejaVuSans-39\"/>\n       <use x=\"127.246094\" xlink:href=\"#DejaVuSans-38\"/>\n       <use x=\"190.869141\" xlink:href=\"#DejaVuSans-30\"/>\n      </g>\n     </g>\n    </g>\n    <g id=\"xtick_5\">\n     <g id=\"line2d_5\">\n      <g>\n       <use style=\"stroke:#000000;stroke-width:0.8;\" x=\"238.779131\" xlink:href=\"#m6fe28e242b\" y=\"338.317344\"/>\n      </g>\n     </g>\n     <g id=\"text_5\">\n      <!-- 1990 -->\n      <g transform=\"translate(226.054131 352.915781)scale(0.1 -0.1)\">\n       <use xlink:href=\"#DejaVuSans-31\"/>\n       <use x=\"63.623047\" xlink:href=\"#DejaVuSans-39\"/>\n       <use x=\"127.246094\" xlink:href=\"#DejaVuSans-39\"/>\n       <use x=\"190.869141\" xlink:href=\"#DejaVuSans-30\"/>\n      </g>\n     </g>\n    </g>\n    <g id=\"xtick_6\">\n     <g id=\"line2d_6\">\n      <g>\n       <use style=\"stroke:#000000;stroke-width:0.8;\" x=\"281.36855\" xlink:href=\"#m6fe28e242b\" y=\"338.317344\"/>\n      </g>\n     </g>\n     <g id=\"text_6\">\n      <!-- 2000 -->\n      <g transform=\"translate(268.64355 352.915781)scale(0.1 -0.1)\">\n       <defs>\n        <path d=\"M 1228 531 \nL 3431 531 \nL 3431 0 \nL 469 0 \nL 469 531 \nQ 828 903 1448 1529 \nQ 2069 2156 2228 2338 \nQ 2531 2678 2651 2914 \nQ 2772 3150 2772 3378 \nQ 2772 3750 2511 3984 \nQ 2250 4219 1831 4219 \nQ 1534 4219 1204 4116 \nQ 875 4013 500 3803 \nL 500 4441 \nQ 881 4594 1212 4672 \nQ 1544 4750 1819 4750 \nQ 2544 4750 2975 4387 \nQ 3406 4025 3406 3419 \nQ 3406 3131 3298 2873 \nQ 3191 2616 2906 2266 \nQ 2828 2175 2409 1742 \nQ 1991 1309 1228 531 \nz\n\" id=\"DejaVuSans-32\" transform=\"scale(0.015625)\"/>\n       </defs>\n       <use xlink:href=\"#DejaVuSans-32\"/>\n       <use x=\"63.623047\" xlink:href=\"#DejaVuSans-30\"/>\n       <use x=\"127.246094\" xlink:href=\"#DejaVuSans-30\"/>\n       <use x=\"190.869141\" xlink:href=\"#DejaVuSans-30\"/>\n      </g>\n     </g>\n    </g>\n    <g id=\"xtick_7\">\n     <g id=\"line2d_7\">\n      <g>\n       <use style=\"stroke:#000000;stroke-width:0.8;\" x=\"323.957969\" xlink:href=\"#m6fe28e242b\" y=\"338.317344\"/>\n      </g>\n     </g>\n     <g id=\"text_7\">\n      <!-- 2010 -->\n      <g transform=\"translate(311.232969 352.915781)scale(0.1 -0.1)\">\n       <use xlink:href=\"#DejaVuSans-32\"/>\n       <use x=\"63.623047\" xlink:href=\"#DejaVuSans-30\"/>\n       <use x=\"127.246094\" xlink:href=\"#DejaVuSans-31\"/>\n       <use x=\"190.869141\" xlink:href=\"#DejaVuSans-30\"/>\n      </g>\n     </g>\n    </g>\n    <g id=\"text_8\">\n     <!-- Year-Of-Publication -->\n     <g transform=\"translate(155.703906 366.593906)scale(0.1 -0.1)\">\n      <defs>\n       <path d=\"M -13 4666 \nL 666 4666 \nL 1959 2747 \nL 3244 4666 \nL 3922 4666 \nL 2272 2222 \nL 2272 0 \nL 1638 0 \nL 1638 2222 \nL -13 4666 \nz\n\" id=\"DejaVuSans-59\" transform=\"scale(0.015625)\"/>\n       <path d=\"M 3597 1894 \nL 3597 1613 \nL 953 1613 \nQ 991 1019 1311 708 \nQ 1631 397 2203 397 \nQ 2534 397 2845 478 \nQ 3156 559 3463 722 \nL 3463 178 \nQ 3153 47 2828 -22 \nQ 2503 -91 2169 -91 \nQ 1331 -91 842 396 \nQ 353 884 353 1716 \nQ 353 2575 817 3079 \nQ 1281 3584 2069 3584 \nQ 2775 3584 3186 3129 \nQ 3597 2675 3597 1894 \nz\nM 3022 2063 \nQ 3016 2534 2758 2815 \nQ 2500 3097 2075 3097 \nQ 1594 3097 1305 2825 \nQ 1016 2553 972 2059 \nL 3022 2063 \nz\n\" id=\"DejaVuSans-65\" transform=\"scale(0.015625)\"/>\n       <path d=\"M 2194 1759 \nQ 1497 1759 1228 1600 \nQ 959 1441 959 1056 \nQ 959 750 1161 570 \nQ 1363 391 1709 391 \nQ 2188 391 2477 730 \nQ 2766 1069 2766 1631 \nL 2766 1759 \nL 2194 1759 \nz\nM 3341 1997 \nL 3341 0 \nL 2766 0 \nL 2766 531 \nQ 2569 213 2275 61 \nQ 1981 -91 1556 -91 \nQ 1019 -91 701 211 \nQ 384 513 384 1019 \nQ 384 1609 779 1909 \nQ 1175 2209 1959 2209 \nL 2766 2209 \nL 2766 2266 \nQ 2766 2663 2505 2880 \nQ 2244 3097 1772 3097 \nQ 1472 3097 1187 3025 \nQ 903 2953 641 2809 \nL 641 3341 \nQ 956 3463 1253 3523 \nQ 1550 3584 1831 3584 \nQ 2591 3584 2966 3190 \nQ 3341 2797 3341 1997 \nz\n\" id=\"DejaVuSans-61\" transform=\"scale(0.015625)\"/>\n       <path d=\"M 2631 2963 \nQ 2534 3019 2420 3045 \nQ 2306 3072 2169 3072 \nQ 1681 3072 1420 2755 \nQ 1159 2438 1159 1844 \nL 1159 0 \nL 581 0 \nL 581 3500 \nL 1159 3500 \nL 1159 2956 \nQ 1341 3275 1631 3429 \nQ 1922 3584 2338 3584 \nQ 2397 3584 2469 3576 \nQ 2541 3569 2628 3553 \nL 2631 2963 \nz\n\" id=\"DejaVuSans-72\" transform=\"scale(0.015625)\"/>\n       <path d=\"M 313 2009 \nL 1997 2009 \nL 1997 1497 \nL 313 1497 \nL 313 2009 \nz\n\" id=\"DejaVuSans-2d\" transform=\"scale(0.015625)\"/>\n       <path d=\"M 2522 4238 \nQ 1834 4238 1429 3725 \nQ 1025 3213 1025 2328 \nQ 1025 1447 1429 934 \nQ 1834 422 2522 422 \nQ 3209 422 3611 934 \nQ 4013 1447 4013 2328 \nQ 4013 3213 3611 3725 \nQ 3209 4238 2522 4238 \nz\nM 2522 4750 \nQ 3503 4750 4090 4092 \nQ 4678 3434 4678 2328 \nQ 4678 1225 4090 567 \nQ 3503 -91 2522 -91 \nQ 1538 -91 948 565 \nQ 359 1222 359 2328 \nQ 359 3434 948 4092 \nQ 1538 4750 2522 4750 \nz\n\" id=\"DejaVuSans-4f\" transform=\"scale(0.015625)\"/>\n       <path d=\"M 2375 4863 \nL 2375 4384 \nL 1825 4384 \nQ 1516 4384 1395 4259 \nQ 1275 4134 1275 3809 \nL 1275 3500 \nL 2222 3500 \nL 2222 3053 \nL 1275 3053 \nL 1275 0 \nL 697 0 \nL 697 3053 \nL 147 3053 \nL 147 3500 \nL 697 3500 \nL 697 3744 \nQ 697 4328 969 4595 \nQ 1241 4863 1831 4863 \nL 2375 4863 \nz\n\" id=\"DejaVuSans-66\" transform=\"scale(0.015625)\"/>\n       <path d=\"M 1259 4147 \nL 1259 2394 \nL 2053 2394 \nQ 2494 2394 2734 2622 \nQ 2975 2850 2975 3272 \nQ 2975 3691 2734 3919 \nQ 2494 4147 2053 4147 \nL 1259 4147 \nz\nM 628 4666 \nL 2053 4666 \nQ 2838 4666 3239 4311 \nQ 3641 3956 3641 3272 \nQ 3641 2581 3239 2228 \nQ 2838 1875 2053 1875 \nL 1259 1875 \nL 1259 0 \nL 628 0 \nL 628 4666 \nz\n\" id=\"DejaVuSans-50\" transform=\"scale(0.015625)\"/>\n       <path d=\"M 544 1381 \nL 544 3500 \nL 1119 3500 \nL 1119 1403 \nQ 1119 906 1312 657 \nQ 1506 409 1894 409 \nQ 2359 409 2629 706 \nQ 2900 1003 2900 1516 \nL 2900 3500 \nL 3475 3500 \nL 3475 0 \nL 2900 0 \nL 2900 538 \nQ 2691 219 2414 64 \nQ 2138 -91 1772 -91 \nQ 1169 -91 856 284 \nQ 544 659 544 1381 \nz\nM 1991 3584 \nL 1991 3584 \nz\n\" id=\"DejaVuSans-75\" transform=\"scale(0.015625)\"/>\n       <path d=\"M 3116 1747 \nQ 3116 2381 2855 2742 \nQ 2594 3103 2138 3103 \nQ 1681 3103 1420 2742 \nQ 1159 2381 1159 1747 \nQ 1159 1113 1420 752 \nQ 1681 391 2138 391 \nQ 2594 391 2855 752 \nQ 3116 1113 3116 1747 \nz\nM 1159 2969 \nQ 1341 3281 1617 3432 \nQ 1894 3584 2278 3584 \nQ 2916 3584 3314 3078 \nQ 3713 2572 3713 1747 \nQ 3713 922 3314 415 \nQ 2916 -91 2278 -91 \nQ 1894 -91 1617 61 \nQ 1341 213 1159 525 \nL 1159 0 \nL 581 0 \nL 581 4863 \nL 1159 4863 \nL 1159 2969 \nz\n\" id=\"DejaVuSans-62\" transform=\"scale(0.015625)\"/>\n       <path d=\"M 603 4863 \nL 1178 4863 \nL 1178 0 \nL 603 0 \nL 603 4863 \nz\n\" id=\"DejaVuSans-6c\" transform=\"scale(0.015625)\"/>\n       <path d=\"M 603 3500 \nL 1178 3500 \nL 1178 0 \nL 603 0 \nL 603 3500 \nz\nM 603 4863 \nL 1178 4863 \nL 1178 4134 \nL 603 4134 \nL 603 4863 \nz\n\" id=\"DejaVuSans-69\" transform=\"scale(0.015625)\"/>\n       <path d=\"M 3122 3366 \nL 3122 2828 \nQ 2878 2963 2633 3030 \nQ 2388 3097 2138 3097 \nQ 1578 3097 1268 2742 \nQ 959 2388 959 1747 \nQ 959 1106 1268 751 \nQ 1578 397 2138 397 \nQ 2388 397 2633 464 \nQ 2878 531 3122 666 \nL 3122 134 \nQ 2881 22 2623 -34 \nQ 2366 -91 2075 -91 \nQ 1284 -91 818 406 \nQ 353 903 353 1747 \nQ 353 2603 823 3093 \nQ 1294 3584 2113 3584 \nQ 2378 3584 2631 3529 \nQ 2884 3475 3122 3366 \nz\n\" id=\"DejaVuSans-63\" transform=\"scale(0.015625)\"/>\n       <path d=\"M 1172 4494 \nL 1172 3500 \nL 2356 3500 \nL 2356 3053 \nL 1172 3053 \nL 1172 1153 \nQ 1172 725 1289 603 \nQ 1406 481 1766 481 \nL 2356 481 \nL 2356 0 \nL 1766 0 \nQ 1100 0 847 248 \nQ 594 497 594 1153 \nL 594 3053 \nL 172 3053 \nL 172 3500 \nL 594 3500 \nL 594 4494 \nL 1172 4494 \nz\n\" id=\"DejaVuSans-74\" transform=\"scale(0.015625)\"/>\n       <path d=\"M 1959 3097 \nQ 1497 3097 1228 2736 \nQ 959 2375 959 1747 \nQ 959 1119 1226 758 \nQ 1494 397 1959 397 \nQ 2419 397 2687 759 \nQ 2956 1122 2956 1747 \nQ 2956 2369 2687 2733 \nQ 2419 3097 1959 3097 \nz\nM 1959 3584 \nQ 2709 3584 3137 3096 \nQ 3566 2609 3566 1747 \nQ 3566 888 3137 398 \nQ 2709 -91 1959 -91 \nQ 1206 -91 779 398 \nQ 353 888 353 1747 \nQ 353 2609 779 3096 \nQ 1206 3584 1959 3584 \nz\n\" id=\"DejaVuSans-6f\" transform=\"scale(0.015625)\"/>\n       <path d=\"M 3513 2113 \nL 3513 0 \nL 2938 0 \nL 2938 2094 \nQ 2938 2591 2744 2837 \nQ 2550 3084 2163 3084 \nQ 1697 3084 1428 2787 \nQ 1159 2491 1159 1978 \nL 1159 0 \nL 581 0 \nL 581 3500 \nL 1159 3500 \nL 1159 2956 \nQ 1366 3272 1645 3428 \nQ 1925 3584 2291 3584 \nQ 2894 3584 3203 3211 \nQ 3513 2838 3513 2113 \nz\n\" id=\"DejaVuSans-6e\" transform=\"scale(0.015625)\"/>\n      </defs>\n      <use xlink:href=\"#DejaVuSans-59\"/>\n      <use x=\"47.833984\" xlink:href=\"#DejaVuSans-65\"/>\n      <use x=\"109.357422\" xlink:href=\"#DejaVuSans-61\"/>\n      <use x=\"170.636719\" xlink:href=\"#DejaVuSans-72\"/>\n      <use x=\"205.375\" xlink:href=\"#DejaVuSans-2d\"/>\n      <use x=\"244.208984\" xlink:href=\"#DejaVuSans-4f\"/>\n      <use x=\"322.919922\" xlink:href=\"#DejaVuSans-66\"/>\n      <use x=\"352.625\" xlink:href=\"#DejaVuSans-2d\"/>\n      <use x=\"388.708984\" xlink:href=\"#DejaVuSans-50\"/>\n      <use x=\"447.261719\" xlink:href=\"#DejaVuSans-75\"/>\n      <use x=\"510.640625\" xlink:href=\"#DejaVuSans-62\"/>\n      <use x=\"574.117188\" xlink:href=\"#DejaVuSans-6c\"/>\n      <use x=\"601.900391\" xlink:href=\"#DejaVuSans-69\"/>\n      <use x=\"629.683594\" xlink:href=\"#DejaVuSans-63\"/>\n      <use x=\"684.664062\" xlink:href=\"#DejaVuSans-61\"/>\n      <use x=\"745.943359\" xlink:href=\"#DejaVuSans-74\"/>\n      <use x=\"785.152344\" xlink:href=\"#DejaVuSans-69\"/>\n      <use x=\"812.935547\" xlink:href=\"#DejaVuSans-6f\"/>\n      <use x=\"874.117188\" xlink:href=\"#DejaVuSans-6e\"/>\n     </g>\n    </g>\n   </g>\n   <g id=\"matplotlib.axis_2\">\n    <g id=\"ytick_1\">\n     <g id=\"line2d_8\">\n      <defs>\n       <path d=\"M 0 0 \nL -3.5 0 \n\" id=\"mb401b52bb5\" style=\"stroke:#000000;stroke-width:0.8;\"/>\n      </defs>\n      <g>\n       <use style=\"stroke:#000000;stroke-width:0.8;\" x=\"59.690625\" xlink:href=\"#mb401b52bb5\" y=\"338.317344\"/>\n      </g>\n     </g>\n     <g id=\"text_9\">\n      <!-- 0 -->\n      <g transform=\"translate(46.328125 342.116562)scale(0.1 -0.1)\">\n       <use xlink:href=\"#DejaVuSans-30\"/>\n      </g>\n     </g>\n    </g>\n    <g id=\"ytick_2\">\n     <g id=\"line2d_9\">\n      <g>\n       <use style=\"stroke:#000000;stroke-width:0.8;\" x=\"59.690625\" xlink:href=\"#mb401b52bb5\" y=\"296.7979\"/>\n      </g>\n     </g>\n     <g id=\"text_10\">\n      <!-- 2500 -->\n      <g transform=\"translate(27.240625 300.597118)scale(0.1 -0.1)\">\n       <use xlink:href=\"#DejaVuSans-32\"/>\n       <use x=\"63.623047\" xlink:href=\"#DejaVuSans-35\"/>\n       <use x=\"127.246094\" xlink:href=\"#DejaVuSans-30\"/>\n       <use x=\"190.869141\" xlink:href=\"#DejaVuSans-30\"/>\n      </g>\n     </g>\n    </g>\n    <g id=\"ytick_3\">\n     <g id=\"line2d_10\">\n      <g>\n       <use style=\"stroke:#000000;stroke-width:0.8;\" x=\"59.690625\" xlink:href=\"#mb401b52bb5\" y=\"255.278455\"/>\n      </g>\n     </g>\n     <g id=\"text_11\">\n      <!-- 5000 -->\n      <g transform=\"translate(27.240625 259.077674)scale(0.1 -0.1)\">\n       <use xlink:href=\"#DejaVuSans-35\"/>\n       <use x=\"63.623047\" xlink:href=\"#DejaVuSans-30\"/>\n       <use x=\"127.246094\" xlink:href=\"#DejaVuSans-30\"/>\n       <use x=\"190.869141\" xlink:href=\"#DejaVuSans-30\"/>\n      </g>\n     </g>\n    </g>\n    <g id=\"ytick_4\">\n     <g id=\"line2d_11\">\n      <g>\n       <use style=\"stroke:#000000;stroke-width:0.8;\" x=\"59.690625\" xlink:href=\"#mb401b52bb5\" y=\"213.759011\"/>\n      </g>\n     </g>\n     <g id=\"text_12\">\n      <!-- 7500 -->\n      <g transform=\"translate(27.240625 217.55823)scale(0.1 -0.1)\">\n       <use xlink:href=\"#DejaVuSans-37\"/>\n       <use x=\"63.623047\" xlink:href=\"#DejaVuSans-35\"/>\n       <use x=\"127.246094\" xlink:href=\"#DejaVuSans-30\"/>\n       <use x=\"190.869141\" xlink:href=\"#DejaVuSans-30\"/>\n      </g>\n     </g>\n    </g>\n    <g id=\"ytick_5\">\n     <g id=\"line2d_12\">\n      <g>\n       <use style=\"stroke:#000000;stroke-width:0.8;\" x=\"59.690625\" xlink:href=\"#mb401b52bb5\" y=\"172.239567\"/>\n      </g>\n     </g>\n     <g id=\"text_13\">\n      <!-- 10000 -->\n      <g transform=\"translate(20.878125 176.038786)scale(0.1 -0.1)\">\n       <use xlink:href=\"#DejaVuSans-31\"/>\n       <use x=\"63.623047\" xlink:href=\"#DejaVuSans-30\"/>\n       <use x=\"127.246094\" xlink:href=\"#DejaVuSans-30\"/>\n       <use x=\"190.869141\" xlink:href=\"#DejaVuSans-30\"/>\n       <use x=\"254.492188\" xlink:href=\"#DejaVuSans-30\"/>\n      </g>\n     </g>\n    </g>\n    <g id=\"ytick_6\">\n     <g id=\"line2d_13\">\n      <g>\n       <use style=\"stroke:#000000;stroke-width:0.8;\" x=\"59.690625\" xlink:href=\"#mb401b52bb5\" y=\"130.720123\"/>\n      </g>\n     </g>\n     <g id=\"text_14\">\n      <!-- 12500 -->\n      <g transform=\"translate(20.878125 134.519342)scale(0.1 -0.1)\">\n       <use xlink:href=\"#DejaVuSans-31\"/>\n       <use x=\"63.623047\" xlink:href=\"#DejaVuSans-32\"/>\n       <use x=\"127.246094\" xlink:href=\"#DejaVuSans-35\"/>\n       <use x=\"190.869141\" xlink:href=\"#DejaVuSans-30\"/>\n       <use x=\"254.492188\" xlink:href=\"#DejaVuSans-30\"/>\n      </g>\n     </g>\n    </g>\n    <g id=\"ytick_7\">\n     <g id=\"line2d_14\">\n      <g>\n       <use style=\"stroke:#000000;stroke-width:0.8;\" x=\"59.690625\" xlink:href=\"#mb401b52bb5\" y=\"89.200679\"/>\n      </g>\n     </g>\n     <g id=\"text_15\">\n      <!-- 15000 -->\n      <g transform=\"translate(20.878125 92.999897)scale(0.1 -0.1)\">\n       <use xlink:href=\"#DejaVuSans-31\"/>\n       <use x=\"63.623047\" xlink:href=\"#DejaVuSans-35\"/>\n       <use x=\"127.246094\" xlink:href=\"#DejaVuSans-30\"/>\n       <use x=\"190.869141\" xlink:href=\"#DejaVuSans-30\"/>\n       <use x=\"254.492188\" xlink:href=\"#DejaVuSans-30\"/>\n      </g>\n     </g>\n    </g>\n    <g id=\"ytick_8\">\n     <g id=\"line2d_15\">\n      <g>\n       <use style=\"stroke:#000000;stroke-width:0.8;\" x=\"59.690625\" xlink:href=\"#mb401b52bb5\" y=\"47.681235\"/>\n      </g>\n     </g>\n     <g id=\"text_16\">\n      <!-- 17500 -->\n      <g transform=\"translate(20.878125 51.480453)scale(0.1 -0.1)\">\n       <use xlink:href=\"#DejaVuSans-31\"/>\n       <use x=\"63.623047\" xlink:href=\"#DejaVuSans-37\"/>\n       <use x=\"127.246094\" xlink:href=\"#DejaVuSans-35\"/>\n       <use x=\"190.869141\" xlink:href=\"#DejaVuSans-30\"/>\n       <use x=\"254.492188\" xlink:href=\"#DejaVuSans-30\"/>\n      </g>\n     </g>\n    </g>\n    <g id=\"text_17\">\n     <!-- Count -->\n     <g transform=\"translate(14.798438 199.465781)rotate(-90)scale(0.1 -0.1)\">\n      <defs>\n       <path d=\"M 4122 4306 \nL 4122 3641 \nQ 3803 3938 3442 4084 \nQ 3081 4231 2675 4231 \nQ 1875 4231 1450 3742 \nQ 1025 3253 1025 2328 \nQ 1025 1406 1450 917 \nQ 1875 428 2675 428 \nQ 3081 428 3442 575 \nQ 3803 722 4122 1019 \nL 4122 359 \nQ 3791 134 3420 21 \nQ 3050 -91 2638 -91 \nQ 1578 -91 968 557 \nQ 359 1206 359 2328 \nQ 359 3453 968 4101 \nQ 1578 4750 2638 4750 \nQ 3056 4750 3426 4639 \nQ 3797 4528 4122 4306 \nz\n\" id=\"DejaVuSans-43\" transform=\"scale(0.015625)\"/>\n      </defs>\n      <use xlink:href=\"#DejaVuSans-43\"/>\n      <use x=\"69.824219\" xlink:href=\"#DejaVuSans-6f\"/>\n      <use x=\"131.005859\" xlink:href=\"#DejaVuSans-75\"/>\n      <use x=\"194.384766\" xlink:href=\"#DejaVuSans-6e\"/>\n      <use x=\"257.763672\" xlink:href=\"#DejaVuSans-74\"/>\n     </g>\n    </g>\n   </g>\n   <g id=\"line2d_16\">\n    <path clip-path=\"url(#p13e16421fb)\" d=\"M 72.680398 338.139854 \nL 93.568474 337.902787 \nL 105.318018 337.779177 \nL 114.456551 337.576309 \nL 124.90059 337.540221 \nL 143.177657 337.11653 \nL 147.094171 336.700145 \nL 157.53821 335.158211 \nL 160.149219 334.544562 \nL 164.065733 333.587239 \nL 167.982248 332.881792 \nL 171.898762 332.131719 \nL 174.509772 331.349041 \nL 177.120781 330.278532 \nL 181.037296 328.563713 \nL 183.648305 327.572549 \nL 186.259315 326.770601 \nL 188.870325 326.175049 \nL 191.481334 325.536887 \nL 192.786839 325.03058 \nL 194.092344 324.358805 \nL 196.703353 322.626435 \nL 199.314363 320.490067 \nL 201.925373 317.923243 \nL 204.536382 315.361775 \nL 205.841887 314.416666 \nL 209.758401 312.232065 \nL 218.896935 307.070835 \nL 221.507945 305.202734 \nL 224.118954 302.986056 \nL 226.729964 300.267853 \nL 230.646478 296.104382 \nL 237.174002 290.815207 \nL 241.090517 287.145053 \nL 243.701526 284.854399 \nL 246.312536 282.829915 \nL 248.923545 280.633608 \nL 250.22905 279.296484 \nL 252.84006 275.998324 \nL 254.145564 273.954861 \nL 256.756574 269.129526 \nL 259.367584 264.11597 \nL 260.673088 262.173655 \nL 263.284098 259.475541 \nL 265.895108 257.01179 \nL 268.506117 254.039437 \nL 269.811622 252.541365 \nL 271.117127 250.872778 \nL 273.728136 246.778765 \nL 276.339146 242.541332 \nL 277.644651 241.216187 \nL 278.950156 240.692972 \nL 280.25566 240.489406 \nL 284.172175 240.25257 \nL 285.47768 239.970961 \nL 286.783184 239.937526 \nL 288.088689 240.343171 \nL 289.394194 241.66286 \nL 290.699699 244.743315 \nL 292.005204 249.899719 \nL 293.310708 257.078257 \nL 294.616213 266.598766 \nL 297.227223 291.110032 \nL 298.532728 303.362821 \nL 299.838232 314.415786 \nL 301.143737 323.75654 \nL 302.449242 330.698379 \nL 303.754747 334.969666 \nL 305.060252 337.085649 \nL 306.365756 337.929183 \nL 307.671261 338.205976 \nL 310.282271 338.306456 \nL 332.475852 338.311681 \nL 332.475852 338.311681 \n\" style=\"fill:none;stroke:#244747;stroke-linecap:square;stroke-width:1.5;\"/>\n   </g>\n   <g id=\"patch_182\">\n    <path d=\"M 59.690625 338.317344 \nL 59.690625 30.917344 \n\" style=\"fill:none;stroke:#000000;stroke-linecap:square;stroke-linejoin:miter;stroke-width:0.8;\"/>\n   </g>\n   <g id=\"patch_183\">\n    <path d=\"M 59.690625 338.317344 \nL 345.465625 338.317344 \n\" style=\"fill:none;stroke:#000000;stroke-linecap:square;stroke-linejoin:miter;stroke-width:0.8;\"/>\n   </g>\n  </g>\n  <g id=\"text_18\">\n   <!-- Year-Of-Publication Distribution -->\n   <g transform=\"translate(68.265625 20.117344)scale(0.17 -0.17)\">\n    <defs>\n     <path d=\"M 1100 0 \nL 1100 378 \nL 1728 378 \nL 1728 1931 \nL 341 4288 \nL -56 4288 \nL -56 4666 \nL 2181 4666 \nL 2181 4288 \nL 1663 4288 \nL 2713 2509 \nL 3756 4288 \nL 3291 4288 \nL 3291 4666 \nL 4628 4666 \nL 4628 4288 \nL 4231 4288 \nL 2938 2094 \nL 2938 378 \nL 3566 378 \nL 3566 0 \nL 1100 0 \nz\n\" id=\"DejaVuSerif-Bold-59\" transform=\"scale(0.015625)\"/>\n     <path d=\"M 2566 1875 \nQ 2566 2531 2444 2795 \nQ 2322 3059 2028 3059 \nQ 1744 3059 1620 2800 \nQ 1497 2541 1497 1931 \nL 1497 1875 \nL 2566 1875 \nz\nM 3781 1503 \nL 1497 1503 \nL 1497 1478 \nQ 1497 834 1690 548 \nQ 1884 263 2316 263 \nQ 2675 263 2897 453 \nQ 3119 644 3181 1006 \nL 3700 1006 \nQ 3566 441 3166 175 \nQ 2766 -91 2047 -91 \nQ 1184 -91 723 364 \nQ 263 819 263 1663 \nQ 263 2488 734 2950 \nQ 1206 3413 2047 3413 \nQ 2872 3413 3312 2927 \nQ 3753 2441 3781 1503 \nz\n\" id=\"DejaVuSerif-Bold-65\" transform=\"scale(0.015625)\"/>\n     <path d=\"M 3525 2041 \nL 3525 378 \nL 4000 378 \nL 4000 0 \nL 2419 0 \nL 2419 422 \nQ 2200 159 1931 34 \nQ 1663 -91 1319 -91 \nQ 809 -91 536 182 \nQ 263 456 263 966 \nQ 263 1525 655 1803 \nQ 1047 2081 1838 2081 \nL 2419 2081 \nL 2419 2278 \nQ 2419 2681 2228 2873 \nQ 2038 3066 1638 3066 \nQ 1306 3066 1126 2930 \nQ 947 2794 872 2484 \nL 519 2484 \nL 519 3200 \nQ 816 3306 1134 3359 \nQ 1453 3413 1806 3413 \nQ 2697 3413 3111 3081 \nQ 3525 2750 3525 2041 \nz\nM 2419 1044 \nL 2419 1709 \nL 2003 1709 \nQ 1694 1709 1528 1540 \nQ 1363 1372 1363 1056 \nQ 1363 741 1483 584 \nQ 1603 428 1850 428 \nQ 2106 428 2262 597 \nQ 2419 766 2419 1044 \nz\n\" id=\"DejaVuSerif-Bold-61\" transform=\"scale(0.015625)\"/>\n     <path d=\"M 3438 3359 \nL 3438 2369 \nL 3084 2369 \nQ 3066 2634 2941 2764 \nQ 2816 2894 2578 2894 \nQ 2216 2894 2006 2575 \nQ 1797 2256 1797 1691 \nL 1797 378 \nL 2400 378 \nL 2400 0 \nL 219 0 \nL 219 378 \nL 691 378 \nL 691 2944 \nL 184 2944 \nL 184 3322 \nL 1797 3322 \nL 1797 2731 \nQ 1959 3078 2226 3245 \nQ 2494 3413 2881 3413 \nQ 2978 3413 3117 3398 \nQ 3256 3384 3438 3359 \nz\n\" id=\"DejaVuSerif-Bold-72\" transform=\"scale(0.015625)\"/>\n     <path d=\"M 347 2138 \nL 2309 2138 \nL 2309 1294 \nL 347 1294 \nL 347 2138 \nz\n\" id=\"DejaVuSerif-Bold-2d\" transform=\"scale(0.015625)\"/>\n     <path d=\"M 2784 288 \nQ 3381 288 3672 791 \nQ 3963 1294 3963 2328 \nQ 3963 3366 3672 3869 \nQ 3381 4372 2784 4372 \nQ 2191 4372 1898 3864 \nQ 1606 3356 1606 2328 \nQ 1606 1303 1898 795 \nQ 2191 288 2784 288 \nz\nM 2784 -91 \nQ 1606 -91 937 553 \nQ 269 1197 269 2328 \nQ 269 3459 939 4104 \nQ 1609 4750 2784 4750 \nQ 3963 4750 4631 4106 \nQ 5300 3463 5300 2328 \nQ 5300 1197 4629 553 \nQ 3959 -91 2784 -91 \nz\n\" id=\"DejaVuSerif-Bold-4f\" transform=\"scale(0.015625)\"/>\n     <path d=\"M 3097 4031 \nL 2747 4031 \nQ 2722 4275 2605 4394 \nQ 2488 4513 2272 4513 \nQ 2022 4513 1909 4333 \nQ 1797 4153 1797 3750 \nL 1797 3322 \nL 2631 3322 \nL 2631 2944 \nL 1797 2944 \nL 1797 378 \nL 2438 378 \nL 2438 0 \nL 219 0 \nL 219 378 \nL 691 378 \nL 691 2944 \nL 197 2944 \nL 197 3322 \nL 691 3322 \nL 691 3738 \nQ 691 4291 1044 4577 \nQ 1397 4863 2081 4863 \nQ 2347 4863 2600 4833 \nQ 2853 4803 3097 4744 \nL 3097 4031 \nz\n\" id=\"DejaVuSerif-Bold-66\" transform=\"scale(0.015625)\"/>\n     <path d=\"M 300 0 \nL 300 378 \nL 897 378 \nL 897 4288 \nL 300 4288 \nL 300 4666 \nL 2956 4666 \nQ 3734 4666 4193 4295 \nQ 4653 3925 4653 3303 \nQ 4653 2678 4192 2304 \nQ 3731 1931 2956 1931 \nL 2100 1931 \nL 2100 378 \nL 2853 378 \nL 2853 0 \nL 300 0 \nz\nM 2100 2309 \nL 2450 2309 \nQ 2856 2309 3098 2579 \nQ 3341 2850 3341 3303 \nQ 3341 3753 3100 4020 \nQ 2859 4288 2450 4288 \nL 2100 4288 \nL 2100 2309 \nz\n\" id=\"DejaVuSerif-Bold-50\" transform=\"scale(0.015625)\"/>\n     <path d=\"M 3963 3322 \nL 3963 378 \nL 4434 378 \nL 4434 0 \nL 2853 0 \nL 2853 469 \nQ 2656 172 2400 40 \nQ 2144 -91 1753 -91 \nQ 1194 -91 908 239 \nQ 622 569 622 1209 \nL 622 2944 \nL 147 2944 \nL 147 3322 \nL 1728 3322 \nL 1728 1381 \nQ 1728 763 1831 595 \nQ 1934 428 2209 428 \nQ 2544 428 2698 675 \nQ 2853 922 2853 1459 \nL 2853 2944 \nL 2450 2944 \nL 2450 3322 \nL 3963 3322 \nz\n\" id=\"DejaVuSerif-Bold-75\" transform=\"scale(0.015625)\"/>\n     <path d=\"M 622 378 \nL 622 4488 \nL 147 4488 \nL 147 4863 \nL 1728 4863 \nL 1728 2900 \nQ 1869 3159 2106 3286 \nQ 2344 3413 2694 3413 \nQ 3403 3413 3811 2945 \nQ 4219 2478 4219 1663 \nQ 4219 847 3811 378 \nQ 3403 -91 2694 -91 \nQ 2344 -91 2106 36 \nQ 1869 163 1728 422 \nL 1728 0 \nL 147 0 \nL 147 378 \nL 622 378 \nz\nM 1728 1497 \nQ 1728 916 1876 656 \nQ 2025 397 2356 397 \nQ 2697 397 2836 672 \nQ 2975 947 2975 1663 \nQ 2975 2378 2836 2651 \nQ 2697 2925 2356 2925 \nQ 2025 2925 1876 2665 \nQ 1728 2406 1728 1825 \nL 1728 1497 \nz\n\" id=\"DejaVuSerif-Bold-62\" transform=\"scale(0.015625)\"/>\n     <path d=\"M 1797 378 \nL 2272 378 \nL 2272 0 \nL 219 0 \nL 219 378 \nL 691 378 \nL 691 4488 \nL 219 4488 \nL 219 4863 \nL 1797 4863 \nL 1797 378 \nz\n\" id=\"DejaVuSerif-Bold-6c\" transform=\"scale(0.015625)\"/>\n     <path d=\"M 588 4263 \nQ 588 4516 763 4689 \nQ 938 4863 1191 4863 \nQ 1438 4863 1611 4689 \nQ 1784 4516 1784 4263 \nQ 1784 4016 1611 3842 \nQ 1438 3669 1191 3669 \nQ 938 3669 763 3841 \nQ 588 4013 588 4263 \nz\nM 1797 378 \nL 2272 378 \nL 2272 0 \nL 219 0 \nL 219 378 \nL 691 378 \nL 691 2944 \nL 219 2944 \nL 219 3322 \nL 1797 3322 \nL 1797 378 \nz\n\" id=\"DejaVuSerif-Bold-69\" transform=\"scale(0.015625)\"/>\n     <path d=\"M 3609 1038 \nQ 3491 469 3123 189 \nQ 2756 -91 2125 -91 \nQ 1238 -91 750 368 \nQ 263 828 263 1663 \nQ 263 2488 744 2950 \nQ 1225 3413 2081 3413 \nQ 2428 3413 2781 3347 \nQ 3134 3281 3500 3150 \nL 3500 2228 \nL 3150 2228 \nQ 3100 2650 2903 2854 \nQ 2706 3059 2350 3059 \nQ 1888 3059 1692 2746 \nQ 1497 2434 1497 1663 \nQ 1497 909 1687 586 \nQ 1878 263 2309 263 \nQ 2644 263 2845 463 \nQ 3047 663 3091 1038 \nL 3609 1038 \nz\n\" id=\"DejaVuSerif-Bold-63\" transform=\"scale(0.015625)\"/>\n     <path d=\"M 634 2944 \nL 153 2944 \nL 153 3322 \nL 634 3322 \nL 634 4353 \nL 1741 4353 \nL 1741 3322 \nL 2663 3322 \nL 2663 2944 \nL 1741 2944 \nL 1741 909 \nQ 1741 475 1809 369 \nQ 1878 263 2059 263 \nQ 2259 263 2356 397 \nQ 2453 531 2459 813 \nL 2925 813 \nQ 2897 313 2651 111 \nQ 2406 -91 1806 -91 \nQ 1122 -91 878 123 \nQ 634 338 634 909 \nL 634 2944 \nz\n\" id=\"DejaVuSerif-Bold-74\" transform=\"scale(0.015625)\"/>\n     <path d=\"M 2138 263 \nQ 2488 263 2630 563 \nQ 2772 863 2772 1663 \nQ 2772 2463 2631 2761 \nQ 2491 3059 2138 3059 \nQ 1784 3059 1640 2757 \nQ 1497 2456 1497 1663 \nQ 1497 869 1640 566 \nQ 1784 263 2138 263 \nz\nM 2138 -91 \nQ 1259 -91 761 376 \nQ 263 844 263 1663 \nQ 263 2484 761 2948 \nQ 1259 3413 2138 3413 \nQ 3019 3413 3516 2948 \nQ 4013 2484 4013 1663 \nQ 4013 844 3514 376 \nQ 3016 -91 2138 -91 \nz\n\" id=\"DejaVuSerif-Bold-6f\" transform=\"scale(0.015625)\"/>\n     <path d=\"M 219 0 \nL 219 378 \nL 691 378 \nL 691 2944 \nL 219 2944 \nL 219 3322 \nL 1797 3322 \nL 1797 2853 \nQ 1997 3150 2253 3281 \nQ 2509 3413 2900 3413 \nQ 3459 3413 3745 3083 \nQ 4031 2753 4031 2113 \nL 4031 378 \nL 4506 378 \nL 4506 0 \nL 2522 0 \nL 2522 378 \nL 2925 378 \nL 2925 2144 \nQ 2925 2566 2817 2730 \nQ 2709 2894 2444 2894 \nQ 2109 2894 1953 2648 \nQ 1797 2403 1797 1869 \nL 1797 378 \nL 2203 378 \nL 2203 0 \nL 219 0 \nz\n\" id=\"DejaVuSerif-Bold-6e\" transform=\"scale(0.015625)\"/>\n     <path id=\"DejaVuSerif-Bold-20\" transform=\"scale(0.015625)\"/>\n     <path d=\"M 2100 378 \nL 2534 378 \nQ 3266 378 3605 847 \nQ 3944 1316 3944 2338 \nQ 3944 3353 3606 3820 \nQ 3269 4288 2534 4288 \nL 2100 4288 \nL 2100 378 \nz\nM 300 0 \nL 300 378 \nL 897 378 \nL 897 4288 \nL 300 4288 \nL 300 4666 \nL 2694 4666 \nQ 3950 4666 4615 4066 \nQ 5281 3466 5281 2338 \nQ 5281 1203 4614 601 \nQ 3947 0 2694 0 \nL 300 0 \nz\n\" id=\"DejaVuSerif-Bold-44\" transform=\"scale(0.015625)\"/>\n     <path d=\"M 300 97 \nL 300 1025 \nL 653 1025 \nQ 697 653 931 458 \nQ 1166 263 1569 263 \nQ 1906 263 2086 380 \nQ 2266 497 2266 716 \nQ 2266 916 2152 1025 \nQ 2038 1134 1709 1216 \nL 1253 1331 \nQ 738 1459 506 1698 \nQ 275 1938 275 2344 \nQ 275 2884 650 3148 \nQ 1025 3413 1806 3413 \nQ 2100 3413 2433 3364 \nQ 2766 3316 3169 3213 \nL 3169 2375 \nL 2816 2375 \nQ 2788 2716 2573 2887 \nQ 2359 3059 1959 3059 \nQ 1622 3059 1448 2951 \nQ 1275 2844 1275 2638 \nQ 1275 2469 1375 2372 \nQ 1475 2275 1734 2209 \nL 2188 2094 \nQ 2841 1928 3091 1684 \nQ 3341 1441 3341 1006 \nQ 3341 444 2939 176 \nQ 2538 -91 1691 -91 \nQ 1381 -91 1034 -44 \nQ 688 3 300 97 \nz\n\" id=\"DejaVuSerif-Bold-73\" transform=\"scale(0.015625)\"/>\n    </defs>\n    <use xlink:href=\"#DejaVuSerif-Bold-59\"/>\n    <use x=\"62.636719\" xlink:href=\"#DejaVuSerif-Bold-65\"/>\n    <use x=\"126.259766\" xlink:href=\"#DejaVuSerif-Bold-61\"/>\n    <use x=\"191.054688\" xlink:href=\"#DejaVuSerif-Bold-72\"/>\n    <use x=\"243.740234\" xlink:href=\"#DejaVuSerif-Bold-2d\"/>\n    <use x=\"285.244141\" xlink:href=\"#DejaVuSerif-Bold-4f\"/>\n    <use x=\"372.353516\" xlink:href=\"#DejaVuSerif-Bold-66\"/>\n    <use x=\"411.746094\" xlink:href=\"#DejaVuSerif-Bold-2d\"/>\n    <use x=\"453.25\" xlink:href=\"#DejaVuSerif-Bold-50\"/>\n    <use x=\"528.445312\" xlink:href=\"#DejaVuSerif-Bold-75\"/>\n    <use x=\"601.150391\" xlink:href=\"#DejaVuSerif-Bold-62\"/>\n    <use x=\"671.072266\" xlink:href=\"#DejaVuSerif-Bold-6c\"/>\n    <use x=\"709.060547\" xlink:href=\"#DejaVuSerif-Bold-69\"/>\n    <use x=\"747.048828\" xlink:href=\"#DejaVuSerif-Bold-63\"/>\n    <use x=\"807.9375\" xlink:href=\"#DejaVuSerif-Bold-61\"/>\n    <use x=\"872.732422\" xlink:href=\"#DejaVuSerif-Bold-74\"/>\n    <use x=\"918.923828\" xlink:href=\"#DejaVuSerif-Bold-69\"/>\n    <use x=\"956.912109\" xlink:href=\"#DejaVuSerif-Bold-6f\"/>\n    <use x=\"1023.611328\" xlink:href=\"#DejaVuSerif-Bold-6e\"/>\n    <use x=\"1096.316406\" xlink:href=\"#DejaVuSerif-Bold-20\"/>\n    <use x=\"1131.130859\" xlink:href=\"#DejaVuSerif-Bold-44\"/>\n    <use x=\"1217.849609\" xlink:href=\"#DejaVuSerif-Bold-69\"/>\n    <use x=\"1255.837891\" xlink:href=\"#DejaVuSerif-Bold-73\"/>\n    <use x=\"1312.136719\" xlink:href=\"#DejaVuSerif-Bold-74\"/>\n    <use x=\"1358.328125\" xlink:href=\"#DejaVuSerif-Bold-72\"/>\n    <use x=\"1411.013672\" xlink:href=\"#DejaVuSerif-Bold-69\"/>\n    <use x=\"1449.001953\" xlink:href=\"#DejaVuSerif-Bold-62\"/>\n    <use x=\"1518.923828\" xlink:href=\"#DejaVuSerif-Bold-75\"/>\n    <use x=\"1591.628906\" xlink:href=\"#DejaVuSerif-Bold-74\"/>\n    <use x=\"1637.820312\" xlink:href=\"#DejaVuSerif-Bold-69\"/>\n    <use x=\"1675.808594\" xlink:href=\"#DejaVuSerif-Bold-6f\"/>\n    <use x=\"1742.507812\" xlink:href=\"#DejaVuSerif-Bold-6e\"/>\n   </g>\n  </g>\n </g>\n <defs>\n  <clipPath id=\"p13e16421fb\">\n   <rect height=\"307.4\" width=\"285.775\" x=\"59.690625\" y=\"30.917344\"/>\n  </clipPath>\n </defs>\n</svg>\n",
      "image/png": "[encoded data removed]"
     },
     "metadata": {
      "needs_background": "light"
     }
    }
   ],
   "source": [
    "df3 = df3[(df3['Year-Of-Publication']>1950) & (df3['Year-Of-Publication']<=2016)]\n",
    "# Distribution across year of publication\n",
    "plot_distribution('Year-Of-Publication', df3)"
   ]
  },
  {
   "cell_type": "markdown",
   "id": "virtual-family",
   "metadata": {
    "papermill": {
     "duration": 0.028834,
     "end_time": "2021-06-22T07:08:02.308110",
     "exception": false,
     "start_time": "2021-06-22T07:08:02.279276",
     "status": "completed"
    },
    "tags": []
   },
   "source": [
    "remove books before 1950 as there are not many and before 2016"
   ]
  },
  {
   "cell_type": "markdown",
   "id": "searching-horror",
   "metadata": {
    "papermill": {
     "duration": 0.031104,
     "end_time": "2021-06-22T07:08:05.962815",
     "exception": false,
     "start_time": "2021-06-22T07:08:05.931711",
     "status": "completed"
    },
    "tags": []
   },
   "source": [
    "# Recommender 2: Collaborative Filtering\n",
    "Based on records from various users provide recommendations based on user similarities"
   ]
  },
  {
   "cell_type": "code",
   "execution_count": null,
   "id": "fuzzy-fountain",
   "metadata": {
    "execution": {
     "iopub.execute_input": "2021-06-22T07:08:06.032864Z",
     "iopub.status.busy": "2021-06-22T07:08:06.032179Z",
     "iopub.status.idle": "2021-06-22T07:08:08.882913Z",
     "shell.execute_reply": "2021-06-22T07:08:08.882297Z",
     "shell.execute_reply.started": "2021-06-22T06:50:02.242830Z"
    },
    "papermill": {
     "duration": 2.888556,
     "end_time": "2021-06-22T07:08:08.883069",
     "exception": false,
     "start_time": "2021-06-22T07:08:05.994513",
     "status": "completed"
    },
    "tags": []
   },
   "outputs": [],
   "source": [
    "# merge df1 and df5 to get movie titles and drop rows for which title is not available\n",
    "data = pd.merge(df1, df3, on='ISBN')\n",
    "\n",
    "# get total counts of no. of occurence of book\n",
    "data['count'] = data.groupby('ISBN').transform('count')['User-ID']\n",
    "\n",
    "# fetch top 100 books based on count\n",
    "isbn = data.drop_duplicates('ISBN').sort_values(\n",
    "    'count', ascending=False).iloc[:100]['ISBN']\n",
    "\n",
    "# filter out data as per the ISBN\n",
    "data = data[data['ISBN'].isin(isbn)].reset_index(drop=True)"
   ]
  },
  {
   "cell_type": "code",
   "execution_count": null,
   "id": "innocent-trademark",
   "metadata": {
    "execution": {
     "iopub.execute_input": "2021-06-22T07:08:08.953178Z",
     "iopub.status.busy": "2021-06-22T07:08:08.952488Z",
     "iopub.status.idle": "2021-06-22T07:08:09.007221Z",
     "shell.execute_reply": "2021-06-22T07:08:09.006105Z",
     "shell.execute_reply.started": "2021-06-22T06:50:05.075834Z"
    },
    "papermill": {
     "duration": 0.092302,
     "end_time": "2021-06-22T07:08:09.007469",
     "exception": false,
     "start_time": "2021-06-22T07:08:08.915167",
     "status": "completed"
    },
    "tags": []
   },
   "outputs": [],
   "source": [
    "# create a user book rating matrix\n",
    "df = data.pivot(index='User-ID', columns='ISBN', values='Book-Rating')\n",
    "df.head()"
   ]
  },
  {
   "cell_type": "code",
   "execution_count": null,
   "id": "hungarian-custody",
   "metadata": {
    "execution": {
     "iopub.execute_input": "2021-06-22T07:08:09.081722Z",
     "iopub.status.busy": "2021-06-22T07:08:09.081073Z",
     "iopub.status.idle": "2021-06-22T07:08:09.123327Z",
     "shell.execute_reply": "2021-06-22T07:08:09.122727Z",
     "shell.execute_reply.started": "2021-06-22T07:04:50.266475Z"
    },
    "papermill": {
     "duration": 0.078734,
     "end_time": "2021-06-22T07:08:09.123477",
     "exception": false,
     "start_time": "2021-06-22T07:08:09.044743",
     "status": "completed"
    },
    "tags": []
   },
   "outputs": [],
   "source": [
    "# get user-ID for users who have read more than 50 books\n",
    "temp = df[~df.isna()].count(axis=1).reset_index()\n",
    "temp[temp[0]>50]"
   ]
  },
  {
   "cell_type": "markdown",
   "id": "dimensional-adaptation",
   "metadata": {
    "papermill": {
     "duration": 0.032253,
     "end_time": "2021-06-22T07:08:09.188114",
     "exception": false,
     "start_time": "2021-06-22T07:08:09.155861",
     "status": "completed"
    },
    "tags": []
   },
   "source": [
    "## 1. Using Surpise Library"
   ]
  },
  {
   "cell_type": "code",
   "execution_count": null,
   "id": "alpha-twelve",
   "metadata": {
    "execution": {
     "iopub.execute_input": "2021-06-22T07:08:09.259673Z",
     "iopub.status.busy": "2021-06-22T07:08:09.258965Z",
     "iopub.status.idle": "2021-06-22T07:08:09.363543Z",
     "shell.execute_reply": "2021-06-22T07:08:09.362922Z",
     "shell.execute_reply.started": "2021-06-22T05:31:34.436243Z"
    },
    "papermill": {
     "duration": 0.142826,
     "end_time": "2021-06-22T07:08:09.363708",
     "exception": false,
     "start_time": "2021-06-22T07:08:09.220882",
     "status": "completed"
    },
    "tags": []
   },
   "outputs": [],
   "source": [
    "from surprise import Reader, Dataset, SVD\n",
    "from surprise.model_selection import train_test_split, cross_validate"
   ]
  },
  {
   "cell_type": "code",
   "execution_count": null,
   "id": "metropolitan-february",
   "metadata": {
    "execution": {
     "iopub.execute_input": "2021-06-22T07:08:09.435736Z",
     "iopub.status.busy": "2021-06-22T07:08:09.435035Z",
     "iopub.status.idle": "2021-06-22T07:08:09.566776Z",
     "shell.execute_reply": "2021-06-22T07:08:09.567334Z",
     "shell.execute_reply.started": "2021-06-22T05:31:36.516902Z"
    },
    "papermill": {
     "duration": 0.171038,
     "end_time": "2021-06-22T07:08:09.567531",
     "exception": false,
     "start_time": "2021-06-22T07:08:09.396493",
     "status": "completed"
    },
    "tags": []
   },
   "outputs": [],
   "source": [
    "reader = Reader(rating_scale=(0, 10))\n",
    "surprise_data = Dataset.load_from_df(data[['User-ID', 'ISBN', 'Book-Rating']], reader)\n",
    "trainset, testset = train_test_split(surprise_data, test_size=0.25)"
   ]
  },
  {
   "cell_type": "code",
   "execution_count": null,
   "id": "twelve-interest",
   "metadata": {
    "execution": {
     "iopub.execute_input": "2021-06-22T07:08:09.635769Z",
     "iopub.status.busy": "2021-06-22T07:08:09.635103Z",
     "iopub.status.idle": "2021-06-22T07:08:19.071061Z",
     "shell.execute_reply": "2021-06-22T07:08:19.070424Z",
     "shell.execute_reply.started": "2021-06-22T05:31:42.887432Z"
    },
    "papermill": {
     "duration": 9.471184,
     "end_time": "2021-06-22T07:08:19.071219",
     "exception": false,
     "start_time": "2021-06-22T07:08:09.600035",
     "status": "completed"
    },
    "tags": []
   },
   "outputs": [],
   "source": [
    "benchmark = []\n",
    "# Iterate over all algorithms\n",
    "for algorithm in [SVD()]:\n",
    "    # Perform cross validation\n",
    "    results = cross_validate(algorithm, surprise_data, measures=['RMSE'], cv=3, verbose=False)\n",
    "    \n",
    "    # Get results & append algorithm name\n",
    "    tmp = pd.DataFrame.from_dict(results).mean(axis=0)\n",
    "    tmp = tmp.append(pd.Series([str(algorithm).split(' ')[0].split('.')[-1]], index=['Algorithm']))\n",
    "    benchmark.append(tmp)\n",
    "    \n",
    "pd.DataFrame(benchmark).set_index('Algorithm').sort_values('test_rmse') "
   ]
  },
  {
   "cell_type": "code",
   "execution_count": null,
   "id": "written-promise",
   "metadata": {
    "execution": {
     "iopub.execute_input": "2021-06-22T07:08:19.163192Z",
     "iopub.status.busy": "2021-06-22T07:08:19.162508Z",
     "iopub.status.idle": "2021-06-22T07:08:22.299478Z",
     "shell.execute_reply": "2021-06-22T07:08:22.298810Z",
     "shell.execute_reply.started": "2021-06-22T05:31:58.618566Z"
    },
    "papermill": {
     "duration": 3.193947,
     "end_time": "2021-06-22T07:08:22.299623",
     "exception": false,
     "start_time": "2021-06-22T07:08:19.105676",
     "status": "completed"
    },
    "tags": []
   },
   "outputs": [],
   "source": [
    "svd = SVD() \n",
    "svd.fit(trainset)"
   ]
  },
  {
   "cell_type": "code",
   "execution_count": null,
   "id": "private-conclusion",
   "metadata": {
    "execution": {
     "iopub.execute_input": "2021-06-22T07:08:22.422985Z",
     "iopub.status.busy": "2021-06-22T07:08:22.403047Z",
     "iopub.status.idle": "2021-06-22T07:08:22.626627Z",
     "shell.execute_reply": "2021-06-22T07:08:22.625741Z",
     "shell.execute_reply.started": "2021-06-22T06:04:59.96868Z"
    },
    "papermill": {
     "duration": 0.294,
     "end_time": "2021-06-22T07:08:22.626859",
     "exception": false,
     "start_time": "2021-06-22T07:08:22.332859",
     "status": "completed"
    },
    "tags": []
   },
   "outputs": [],
   "source": [
    "index_val = 2131\n",
    "# get user id\n",
    "userId = df.index[index_val]\n",
    "books = []\n",
    "ratings = []\n",
    "titles = []\n",
    "\n",
    "for isbn in df.iloc[index_val][df.iloc[index_val].isna()].index:\n",
    "    books.append(isbn)\n",
    "    title = data[data['ISBN']==isbn]['Book-Title'].values[0]\n",
    "    titles.append(title)\n",
    "    ratings.append(svd.predict(userId, isbn).est)\n",
    "\n",
    "prediction = pd.DataFrame({'ISBN':books, 'title':titles, 'rating':ratings, 'userId':userId})  \n",
    "prediction = prediction.sort_values('rating', ascending=False).iloc[:10].reset_index(drop=True)\n",
    "\n",
    "# get other high rated books by user\n",
    "temp = data[data['User-ID']==df.index[index_val]].sort_values(\n",
    "    'Book-Rating', ascending=False)[['Book-Rating', 'Book-Title', 'User-ID']].iloc[:10].reset_index(drop=True)\n",
    "prediction['Book Read'] = temp['Book-Title']\n",
    "prediction['Rated']= temp['Book-Rating']\n",
    "prediction"
   ]
  },
  {
   "cell_type": "code",
   "execution_count": null,
   "id": "immediate-squad",
   "metadata": {
    "execution": {
     "iopub.execute_input": "2021-06-22T07:08:22.734790Z",
     "iopub.status.busy": "2021-06-22T07:08:22.733847Z",
     "iopub.status.idle": "2021-06-22T07:08:22.964948Z",
     "shell.execute_reply": "2021-06-22T07:08:22.965499Z",
     "shell.execute_reply.started": "2021-06-22T07:02:14.556047Z"
    },
    "papermill": {
     "duration": 0.294238,
     "end_time": "2021-06-22T07:08:22.965684",
     "exception": false,
     "start_time": "2021-06-22T07:08:22.671446",
     "status": "completed"
    },
    "tags": []
   },
   "outputs": [],
   "source": [
    "index_val = 912\n",
    "# get user id\n",
    "userId = df.index[index_val]\n",
    "books = []\n",
    "ratings = []\n",
    "titles = []\n",
    "\n",
    "for isbn in df.iloc[index_val][df.iloc[index_val].isna()].index:\n",
    "    books.append(isbn)\n",
    "    title = data[data['ISBN']==isbn]['Book-Title'].values[0]\n",
    "    titles.append(title)\n",
    "    ratings.append(svd.predict(userId, isbn).est)\n",
    "\n",
    "prediction = pd.DataFrame({'ISBN':books, 'title':titles, 'rating':ratings, 'userId':userId})  \n",
    "prediction = prediction.sort_values('rating', ascending=False).iloc[:10].reset_index(drop=True)\n",
    "\n",
    "# get other high rated books by user\n",
    "temp = data[data['User-ID']==df.index[index_val]].sort_values(\n",
    "    'Book-Rating', ascending=False)[['Book-Rating', 'Book-Title', 'User-ID']].iloc[:10].reset_index(drop=True)\n",
    "prediction['Book Read'] = temp['Book-Title']\n",
    "prediction['Rated']= temp['Book-Rating']\n",
    "prediction"
   ]
  },
  {
   "cell_type": "markdown",
   "id": "weighted-chick",
   "metadata": {
    "papermill": {
     "duration": 0.037039,
     "end_time": "2021-06-22T07:08:23.037776",
     "exception": false,
     "start_time": "2021-06-22T07:08:23.000737",
     "status": "completed"
    },
    "tags": []
   },
   "source": [
    "## 2. Using mean of other user' weighted ratings based on similarity matrix\n",
    "Here assumed rating may not make much sense as most of the books are not read by other users"
   ]
  },
  {
   "cell_type": "code",
   "execution_count": null,
   "id": "stainless-length",
   "metadata": {
    "execution": {
     "iopub.execute_input": "2021-06-22T07:08:23.114635Z",
     "iopub.status.busy": "2021-06-22T07:08:23.113921Z",
     "iopub.status.idle": "2021-06-22T07:08:23.245353Z",
     "shell.execute_reply": "2021-06-22T07:08:23.244802Z",
     "shell.execute_reply.started": "2021-06-22T06:41:29.784494Z"
    },
    "papermill": {
     "duration": 0.171459,
     "end_time": "2021-06-22T07:08:23.245503",
     "exception": false,
     "start_time": "2021-06-22T07:08:23.074044",
     "status": "completed"
    },
    "tags": []
   },
   "outputs": [],
   "source": [
    "from sklearn.metrics.pairwise import cosine_similarity"
   ]
  },
  {
   "cell_type": "code",
   "execution_count": null,
   "id": "substantial-drama",
   "metadata": {
    "execution": {
     "iopub.execute_input": "2021-06-22T07:08:23.323456Z",
     "iopub.status.busy": "2021-06-22T07:08:23.322708Z",
     "iopub.status.idle": "2021-06-22T07:08:25.192065Z",
     "shell.execute_reply": "2021-06-22T07:08:25.191404Z",
     "shell.execute_reply.started": "2021-06-22T06:50:22.981100Z"
    },
    "papermill": {
     "duration": 1.910499,
     "end_time": "2021-06-22T07:08:25.192223",
     "exception": false,
     "start_time": "2021-06-22T07:08:23.281724",
     "status": "completed"
    },
    "tags": []
   },
   "outputs": [],
   "source": [
    "# replace NaN with user based average rating in pivot dataframe\n",
    "df_imputed = df.fillna(df.mean(axis=0))\n",
    "\n",
    "# get similarity between all users\n",
    "similarity_matrix = cosine_similarity(df_imputed.values)"
   ]
  },
  {
   "cell_type": "code",
   "execution_count": null,
   "id": "incoming-velvet",
   "metadata": {
    "execution": {
     "iopub.execute_input": "2021-06-22T07:08:25.271747Z",
     "iopub.status.busy": "2021-06-22T07:08:25.271000Z",
     "iopub.status.idle": "2021-06-22T07:08:25.274083Z",
     "shell.execute_reply": "2021-06-22T07:08:25.274583Z",
     "shell.execute_reply.started": "2021-06-22T07:00:54.480508Z"
    },
    "papermill": {
     "duration": 0.048017,
     "end_time": "2021-06-22T07:08:25.274756",
     "exception": false,
     "start_time": "2021-06-22T07:08:25.226739",
     "status": "completed"
    },
    "tags": []
   },
   "outputs": [],
   "source": [
    "def get_recommendation(user_index):\n",
    "    idx = user_index\n",
    "    sim_scores = list(enumerate(similarity_matrix[idx]))\n",
    "\n",
    "    # get books that are unrated by the given user\n",
    "    unrated_books = df.iloc[idx][df.iloc[idx].isna()].index\n",
    "\n",
    "    # get weighted ratings of unrated books by all other users\n",
    "    book_ratings = (df[unrated_books].T * similarity_matrix[idx]).T\n",
    "\n",
    "    # get top 100 similar users by skipping the current user\n",
    "    sim_scores = sorted(sim_scores, key=lambda x: x[1], reverse=True)[1:101]\n",
    "\n",
    "    # get mean of book ratings by top 100 most similar users for the unrated books\n",
    "    book_ratings = book_ratings.iloc[[x[0] for x in sim_scores]].mean()\n",
    "    \n",
    "    # get rid of null values and sort it based on ratings\n",
    "    book_ratings = book_ratings.reset_index().dropna().sort_values(0, ascending=False).iloc[:10]\n",
    "    \n",
    "    # get recommended book titles in sorted order\n",
    "    recommended_books = data[data['ISBN'].isin(book_ratings['ISBN'])][['ISBN', 'Book-Title']]\n",
    "    recommended_books = recommended_books.drop_duplicates('ISBN').reset_index(drop=True)\n",
    "    assumed_ratings = book_ratings[0].reset_index(drop=True)\n",
    "\n",
    "    return pd.DataFrame({'ISBN':recommended_books['ISBN'], \n",
    "                         'Recommended Book':recommended_books['Book-Title'], \n",
    "                         'Assumed Rating':assumed_ratings})"
   ]
  },
  {
   "cell_type": "code",
   "execution_count": null,
   "id": "catholic-thinking",
   "metadata": {
    "execution": {
     "iopub.execute_input": "2021-06-22T07:08:25.359136Z",
     "iopub.status.busy": "2021-06-22T07:08:25.358457Z",
     "iopub.status.idle": "2021-06-22T07:08:25.404443Z",
     "shell.execute_reply": "2021-06-22T07:08:25.404924Z",
     "shell.execute_reply.started": "2021-06-22T07:01:21.590017Z"
    },
    "papermill": {
     "duration": 0.095921,
     "end_time": "2021-06-22T07:08:25.405093",
     "exception": false,
     "start_time": "2021-06-22T07:08:25.309172",
     "status": "completed"
    },
    "tags": []
   },
   "outputs": [],
   "source": [
    "user_index = 2131\n",
    "recommended_books = get_recommendation(user_index)\n",
    "# get other high rated books by user\n",
    "temp = data[data['User-ID']==df.index[user_index]].sort_values(\n",
    "    'Book-Rating', ascending=False)[['Book-Rating', 'Book-Title', 'User-ID']].iloc[:10].reset_index(drop=True)\n",
    "recommended_books['userId'] = temp['User-ID']\n",
    "recommended_books['Book Read'] = temp['Book-Title']\n",
    "recommended_books['Rated']= temp['Book-Rating']\n",
    "recommended_books"
   ]
  },
  {
   "cell_type": "code",
   "execution_count": null,
   "id": "buried-eligibility",
   "metadata": {
    "execution": {
     "iopub.execute_input": "2021-06-22T07:08:25.479222Z",
     "iopub.status.busy": "2021-06-22T07:08:25.478528Z",
     "iopub.status.idle": "2021-06-22T07:08:25.537355Z",
     "shell.execute_reply": "2021-06-22T07:08:25.536703Z",
     "shell.execute_reply.started": "2021-06-22T07:06:58.565067Z"
    },
    "papermill": {
     "duration": 0.097182,
     "end_time": "2021-06-22T07:08:25.537499",
     "exception": false,
     "start_time": "2021-06-22T07:08:25.440317",
     "status": "completed"
    },
    "tags": []
   },
   "outputs": [],
   "source": [
    "user_index = 6349\n",
    "recommended_books = get_recommendation(user_index)\n",
    "# get other high rated books by user\n",
    "temp = data[data['User-ID']==df.index[user_index]].sort_values(\n",
    "    'Book-Rating', ascending=False)[['Book-Rating', 'Book-Title', 'User-ID']].iloc[:10].reset_index(drop=True)\n",
    "recommended_books['userId'] = temp['User-ID']\n",
    "recommended_books['Book Read'] = temp['Book-Title']\n",
    "recommended_books['Rated']= temp['Book-Rating']\n",
    "recommended_books"
   ]
  }
 ],
 "metadata": {
  "kernelspec": {
   "name": "python3",
   "display_name": "Python 3.9.2 64-bit"
  },
  "language_info": {
   "codemirror_mode": {
    "name": "ipython",
    "version": 3
   },
   "file_extension": ".py",
   "mimetype": "text/x-python",
   "name": "python",
   "nbconvert_exporter": "python",
   "pygments_lexer": "ipython3",
   "version": "3.9.2"
  },
  "papermill": {
   "default_parameters": {},
   "duration": 44.952669,
   "end_time": "2021-06-22T07:08:27.252699",
   "environment_variables": {},
   "exception": null,
   "input_path": "__notebook__.ipynb",
   "output_path": "__notebook__.ipynb",
   "parameters": {},
   "start_time": "2021-06-22T07:07:42.300030",
   "version": "2.3.3"
  },
  "interpreter": {
   "hash": "aee8b7b246df8f9039afb4144a1f6fd8d2ca17a180786b69acc140d282b71a49"
  }
 },
 "nbformat": 4,
 "nbformat_minor": 5
}